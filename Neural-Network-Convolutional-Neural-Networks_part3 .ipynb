{
  "cells": [
    {
      "cell_type": "markdown",
      "id": "c8dca964",
      "metadata": {
        "id": "c8dca964"
      },
      "source": [
        "# imports"
      ]
    },
    {
      "cell_type": "code",
      "execution_count": 4,
      "id": "ac399447",
      "metadata": {
        "id": "ac399447"
      },
      "outputs": [],
      "source": [
        "import numpy as np\n",
        "import pandas as pd\n",
        "import seaborn as sns\n",
        "import matplotlib.pyplot as plt\n",
        "import os\n",
        "from zipfile import ZipFile as zp\n",
        "import torchvision.transforms as transforms"
      ]
    },
    {
      "cell_type": "code",
      "execution_count": 5,
      "id": "f880d5a2",
      "metadata": {
        "id": "f880d5a2"
      },
      "outputs": [],
      "source": [
        "import torch\n",
        "import torch.nn as nn\n",
        "import torch.optim as optim\n",
        "from torch.optim.lr_scheduler import _LRScheduler\n",
        "import torchvision\n",
        "\n",
        "import torch.utils.data as data\n",
        "import torch.nn.functional as F\n",
        "from torchvision import models\n",
        "\n",
        "from sklearn import decomposition\n",
        "from sklearn import manifold\n",
        "from sklearn.metrics import confusion_matrix,ConfusionMatrixDisplay\n",
        "from tqdm.notebook import trange,tqdm_notebook   #tqdm is a library that is used for creating Python Progress Bars\n",
        "from tqdm import tqdm\n",
        "import time\n",
        "import random\n",
        "import numpy as np"
      ]
    },
    {
      "cell_type": "markdown",
      "id": "ce4fd0ab",
      "metadata": {
        "id": "ce4fd0ab"
      },
      "source": [
        "# zipfile extraction"
      ]
    },
    {
      "cell_type": "code",
      "execution_count": 6,
      "id": "98f3e807",
      "metadata": {
        "id": "98f3e807"
      },
      "outputs": [],
      "source": [
        "# we have extracted the zip file and placed the contents in a folder.\n",
        "\n",
        "zip_path = r\"cnn_dataset.zip\"   # dynamic- change for online runs (colab/kaggle/aws)\n",
        "data_path = r\"images\"\n",
        "\n",
        "with zp(file=zip_path,mode=\"r\") as obj :\n",
        "    obj.extractall(path=data_path)\n",
        "obj.close()\n",
        "\n"
      ]
    },
    {
      "cell_type": "code",
      "execution_count": 7,
      "id": "4e206471",
      "metadata": {
        "colab": {
          "base_uri": "https://localhost:8080/"
        },
        "id": "4e206471",
        "outputId": "c773ed83-4c2e-485c-8ef3-27c0f886eed4"
      },
      "outputs": [
        {
          "output_type": "execute_result",
          "data": {
            "text/plain": [
              "['dogs', 'food', 'vehicles']"
            ]
          },
          "metadata": {},
          "execution_count": 7
        }
      ],
      "source": [
        "# types of data/ datalabels we have\n",
        "data_labels = os.listdir(path=data_path)\n",
        "data_labels"
      ]
    },
    {
      "cell_type": "code",
      "execution_count": 8,
      "id": "7fe73929",
      "metadata": {
        "id": "7fe73929"
      },
      "outputs": [],
      "source": [
        "images_list = []   # This list will save type of image and image path \n",
        "\n",
        "for labels in data_labels:\n",
        "    lables_class = os.listdir(path=data_path+\"/\"+ labels)\n",
        "    for img in lables_class:\n",
        "#         print(labels, img)\n",
        "#         print(labels, data_path+\"\\\\\"+labels+\"\\\\\"+img)\n",
        "        images_list.append((labels, data_path+\"\\\\\"+labels+\"\\\\\"+img))\n",
        "\n",
        "# print(images_list)"
      ]
    },
    {
      "cell_type": "code",
      "execution_count": 9,
      "id": "4e6d17ed",
      "metadata": {
        "id": "4e6d17ed",
        "colab": {
          "base_uri": "https://localhost:8080/",
          "height": 279
        },
        "outputId": "0cb7051c-07e3-4982-a2de-4cff19379152"
      },
      "outputs": [
        {
          "output_type": "display_data",
          "data": {
            "text/plain": [
              "  class            image_path\n",
              "0  dogs  images\\dogs\\4791.jpg\n",
              "1  dogs   images\\dogs\\961.jpg\n",
              "2  dogs  images\\dogs\\6657.jpg\n",
              "3  dogs  images\\dogs\\6509.jpg\n",
              "4  dogs  images\\dogs\\1255.jpg"
            ],
            "text/html": [
              "\n",
              "  <div id=\"df-16930376-8a47-41c4-8c05-9f65268923bb\">\n",
              "    <div class=\"colab-df-container\">\n",
              "      <div>\n",
              "<style scoped>\n",
              "    .dataframe tbody tr th:only-of-type {\n",
              "        vertical-align: middle;\n",
              "    }\n",
              "\n",
              "    .dataframe tbody tr th {\n",
              "        vertical-align: top;\n",
              "    }\n",
              "\n",
              "    .dataframe thead th {\n",
              "        text-align: right;\n",
              "    }\n",
              "</style>\n",
              "<table border=\"1\" class=\"dataframe\">\n",
              "  <thead>\n",
              "    <tr style=\"text-align: right;\">\n",
              "      <th></th>\n",
              "      <th>class</th>\n",
              "      <th>image_path</th>\n",
              "    </tr>\n",
              "  </thead>\n",
              "  <tbody>\n",
              "    <tr>\n",
              "      <th>0</th>\n",
              "      <td>dogs</td>\n",
              "      <td>images\\dogs\\4791.jpg</td>\n",
              "    </tr>\n",
              "    <tr>\n",
              "      <th>1</th>\n",
              "      <td>dogs</td>\n",
              "      <td>images\\dogs\\961.jpg</td>\n",
              "    </tr>\n",
              "    <tr>\n",
              "      <th>2</th>\n",
              "      <td>dogs</td>\n",
              "      <td>images\\dogs\\6657.jpg</td>\n",
              "    </tr>\n",
              "    <tr>\n",
              "      <th>3</th>\n",
              "      <td>dogs</td>\n",
              "      <td>images\\dogs\\6509.jpg</td>\n",
              "    </tr>\n",
              "    <tr>\n",
              "      <th>4</th>\n",
              "      <td>dogs</td>\n",
              "      <td>images\\dogs\\1255.jpg</td>\n",
              "    </tr>\n",
              "  </tbody>\n",
              "</table>\n",
              "</div>\n",
              "      <button class=\"colab-df-convert\" onclick=\"convertToInteractive('df-16930376-8a47-41c4-8c05-9f65268923bb')\"\n",
              "              title=\"Convert this dataframe to an interactive table.\"\n",
              "              style=\"display:none;\">\n",
              "        \n",
              "  <svg xmlns=\"http://www.w3.org/2000/svg\" height=\"24px\"viewBox=\"0 0 24 24\"\n",
              "       width=\"24px\">\n",
              "    <path d=\"M0 0h24v24H0V0z\" fill=\"none\"/>\n",
              "    <path d=\"M18.56 5.44l.94 2.06.94-2.06 2.06-.94-2.06-.94-.94-2.06-.94 2.06-2.06.94zm-11 1L8.5 8.5l.94-2.06 2.06-.94-2.06-.94L8.5 2.5l-.94 2.06-2.06.94zm10 10l.94 2.06.94-2.06 2.06-.94-2.06-.94-.94-2.06-.94 2.06-2.06.94z\"/><path d=\"M17.41 7.96l-1.37-1.37c-.4-.4-.92-.59-1.43-.59-.52 0-1.04.2-1.43.59L10.3 9.45l-7.72 7.72c-.78.78-.78 2.05 0 2.83L4 21.41c.39.39.9.59 1.41.59.51 0 1.02-.2 1.41-.59l7.78-7.78 2.81-2.81c.8-.78.8-2.07 0-2.86zM5.41 20L4 18.59l7.72-7.72 1.47 1.35L5.41 20z\"/>\n",
              "  </svg>\n",
              "      </button>\n",
              "      \n",
              "  <style>\n",
              "    .colab-df-container {\n",
              "      display:flex;\n",
              "      flex-wrap:wrap;\n",
              "      gap: 12px;\n",
              "    }\n",
              "\n",
              "    .colab-df-convert {\n",
              "      background-color: #E8F0FE;\n",
              "      border: none;\n",
              "      border-radius: 50%;\n",
              "      cursor: pointer;\n",
              "      display: none;\n",
              "      fill: #1967D2;\n",
              "      height: 32px;\n",
              "      padding: 0 0 0 0;\n",
              "      width: 32px;\n",
              "    }\n",
              "\n",
              "    .colab-df-convert:hover {\n",
              "      background-color: #E2EBFA;\n",
              "      box-shadow: 0px 1px 2px rgba(60, 64, 67, 0.3), 0px 1px 3px 1px rgba(60, 64, 67, 0.15);\n",
              "      fill: #174EA6;\n",
              "    }\n",
              "\n",
              "    [theme=dark] .colab-df-convert {\n",
              "      background-color: #3B4455;\n",
              "      fill: #D2E3FC;\n",
              "    }\n",
              "\n",
              "    [theme=dark] .colab-df-convert:hover {\n",
              "      background-color: #434B5C;\n",
              "      box-shadow: 0px 1px 3px 1px rgba(0, 0, 0, 0.15);\n",
              "      filter: drop-shadow(0px 1px 2px rgba(0, 0, 0, 0.3));\n",
              "      fill: #FFFFFF;\n",
              "    }\n",
              "  </style>\n",
              "\n",
              "      <script>\n",
              "        const buttonEl =\n",
              "          document.querySelector('#df-16930376-8a47-41c4-8c05-9f65268923bb button.colab-df-convert');\n",
              "        buttonEl.style.display =\n",
              "          google.colab.kernel.accessAllowed ? 'block' : 'none';\n",
              "\n",
              "        async function convertToInteractive(key) {\n",
              "          const element = document.querySelector('#df-16930376-8a47-41c4-8c05-9f65268923bb');\n",
              "          const dataTable =\n",
              "            await google.colab.kernel.invokeFunction('convertToInteractive',\n",
              "                                                     [key], {});\n",
              "          if (!dataTable) return;\n",
              "\n",
              "          const docLinkHtml = 'Like what you see? Visit the ' +\n",
              "            '<a target=\"_blank\" href=https://colab.research.google.com/notebooks/data_table.ipynb>data table notebook</a>'\n",
              "            + ' to learn more about interactive tables.';\n",
              "          element.innerHTML = '';\n",
              "          dataTable['output_type'] = 'display_data';\n",
              "          await google.colab.output.renderOutput(dataTable, element);\n",
              "          const docLink = document.createElement('div');\n",
              "          docLink.innerHTML = docLinkHtml;\n",
              "          element.appendChild(docLink);\n",
              "        }\n",
              "      </script>\n",
              "    </div>\n",
              "  </div>\n",
              "  "
            ]
          },
          "metadata": {}
        },
        {
          "output_type": "execute_result",
          "data": {
            "text/plain": [
              "dogs        10000\n",
              "food        10000\n",
              "vehicles    10000\n",
              "Name: class, dtype: int64"
            ]
          },
          "metadata": {},
          "execution_count": 9
        }
      ],
      "source": [
        "df = pd.DataFrame(data = images_list,columns=[\"class\" , \"image_path\"])\n",
        "display(df.head())\n",
        "df[\"class\"].value_counts()\n",
        "\n",
        "# we have 3 classes with each of 10,000 images "
      ]
    },
    {
      "cell_type": "code",
      "execution_count": 9,
      "id": "70ec5eb4",
      "metadata": {
        "id": "70ec5eb4"
      },
      "outputs": [],
      "source": []
    },
    {
      "cell_type": "code",
      "execution_count": 9,
      "id": "103bc445",
      "metadata": {
        "id": "103bc445"
      },
      "outputs": [],
      "source": []
    },
    {
      "cell_type": "markdown",
      "source": [
        "# Dataset Visualization and statistics"
      ],
      "metadata": {
        "id": "cGl4aiKqiRte"
      },
      "id": "cGl4aiKqiRte"
    },
    {
      "cell_type": "code",
      "source": [
        "import cv2\n",
        "random_pick = list(map(lambda x: df.iloc[x] , [k for k in random.sample(range(len(df)),10)]))"
      ],
      "metadata": {
        "id": "znf2BRAniR3W"
      },
      "id": "znf2BRAniR3W",
      "execution_count": 10,
      "outputs": []
    },
    {
      "cell_type": "code",
      "source": [
        "def plot_random_images(iterator):   #iterator has image paths  \n",
        "    \n",
        "    plt.figure(figsize=(20,20))\n",
        "    plt.subplot(331)\n",
        "    plt.title(iterator[0][0])\n",
        "    plt.imshow(cv2.imread(iterator[0][1]))\n",
        "    plt.subplot(332)\n",
        "    plt.title(iterator[1][0])\n",
        "    plt.imshow(cv2.imread(iterator[1][1]))\n",
        "    plt.subplot(333)\n",
        "    plt.title(iterator[2][0])\n",
        "    plt.imshow(cv2.imread(iterator[2][1]))\n",
        "    plt.subplot(334)\n",
        "    plt.title(iterator[3][0])\n",
        "    plt.imshow(cv2.imread(iterator[3][1]))\n",
        "    plt.subplot(335)\n",
        "    plt.title(iterator[4][0])\n",
        "    plt.imshow(cv2.imread(iterator[4][1]))\n",
        "    plt.subplot(336)\n",
        "    plt.title(iterator[5][0])\n",
        "    plt.imshow(cv2.imread(iterator[5][1]))\n",
        "    plt.subplot(337)\n",
        "    plt.title(iterator[6][0])\n",
        "    plt.imshow(cv2.imread(iterator[6][1]))\n",
        "    plt.subplot(338)\n",
        "    plt.title(iterator[7][0])\n",
        "    plt.imshow(cv2.imread(iterator[7][1]))\n",
        "    plt.subplot(339)\n",
        "    plt.title(iterator[8][0])\n",
        "    plt.imshow(cv2.imread(iterator[8][1]))\n",
        "    plt.show()"
      ],
      "metadata": {
        "id": "mg_6myEliR8N"
      },
      "id": "mg_6myEliR8N",
      "execution_count": 11,
      "outputs": []
    },
    {
      "cell_type": "markdown",
      "source": [
        "plot_random_images(iterator=random_pick)"
      ],
      "metadata": {
        "id": "n6bUvk2MiSC1"
      },
      "id": "n6bUvk2MiSC1"
    },
    {
      "cell_type": "code",
      "source": [
        "plt.hist(df[\"class\"],orientation=\"horizontal\",align=\"mid\")\n",
        "plt.show()"
      ],
      "metadata": {
        "colab": {
          "base_uri": "https://localhost:8080/",
          "height": 430
        },
        "id": "7OfzyhagifH3",
        "outputId": "4950d36c-31ca-4242-9e04-3ec9fe3455d1"
      },
      "id": "7OfzyhagifH3",
      "execution_count": 12,
      "outputs": [
        {
          "output_type": "display_data",
          "data": {
            "text/plain": [
              "<Figure size 640x480 with 1 Axes>"
            ],
            "image/png": "[encoded data removed]"
          },
          "metadata": {}
        }
      ]
    },
    {
      "cell_type": "code",
      "source": [
        "lables_class = [\"Dogs\",\"Food\",\"Vehicles\"]\n",
        "\n",
        "figure, axis = plt.subplots()\n",
        "axis.pie(df[\"class\"].value_counts(),labels=lables_class,autopct='%1.1f%%',\n",
        "       pctdistance=1.25, labeldistance=0.3,rotatelabels=20,explode=(0.05,0,0),startangle=300)\n",
        "plt.title(\"Images count vizualization\")\n",
        "plt.show()"
      ],
      "metadata": {
        "colab": {
          "base_uri": "https://localhost:8080/",
          "height": 428
        },
        "id": "l2wTLAHsifLn",
        "outputId": "872e2b0e-23a1-467e-e673-cf4e802dc38d"
      },
      "id": "l2wTLAHsifLn",
      "execution_count": 13,
      "outputs": [
        {
          "output_type": "display_data",
          "data": {
            "text/plain": [
              "<Figure size 640x480 with 1 Axes>"
            ],
            "image/png": "[encoded data removed]"
          },
          "metadata": {}
        }
      ]
    },
    {
      "cell_type": "code",
      "source": [],
      "metadata": {
        "id": "BpLuBMrQilp1"
      },
      "id": "BpLuBMrQilp1",
      "execution_count": 13,
      "outputs": []
    },
    {
      "cell_type": "markdown",
      "id": "fac31a71",
      "metadata": {
        "id": "fac31a71"
      },
      "source": [
        "# Image preprocessing "
      ]
    },
    {
      "cell_type": "code",
      "execution_count": 14,
      "id": "0a0ad5e2",
      "metadata": {
        "id": "0a0ad5e2"
      },
      "outputs": [],
      "source": [
        "from PIL import Image\n",
        "from numpy import asarray"
      ]
    },
    {
      "cell_type": "markdown",
      "id": "8207436a",
      "metadata": {
        "id": "8207436a"
      },
      "source": [
        "## Normalization using transforms"
      ]
    },
    {
      "cell_type": "code",
      "execution_count": 15,
      "id": "727db770",
      "metadata": {
        "id": "727db770"
      },
      "outputs": [],
      "source": [
        "#using the Imagenet pretrianed model with its own mean and std is recommended!\n",
        "\n",
        "transform_var = transforms.Compose([ transforms.Resize(224),transforms.CenterCrop(224),transforms.ToTensor(),\n",
        "                    transforms.Normalize(mean=[0.485,0.456,0.406],std=[0.229,0.224,0.225]),])   # These mean and sd are taken from ImageNet"
      ]
    },
    {
      "cell_type": "code",
      "source": [],
      "metadata": {
        "id": "afiOR_jfiJG2"
      },
      "id": "afiOR_jfiJG2",
      "execution_count": 15,
      "outputs": []
    },
    {
      "cell_type": "markdown",
      "id": "18e22233",
      "metadata": {
        "id": "18e22233"
      },
      "source": [
        "## Loading the data using Dataloaders and splitting it into test/train/validation sets"
      ]
    },
    {
      "cell_type": "code",
      "execution_count": 16,
      "id": "aec9baa8",
      "metadata": {
        "id": "aec9baa8"
      },
      "outputs": [],
      "source": [
        "from torchvision.datasets import ImageFolder"
      ]
    },
    {
      "cell_type": "code",
      "execution_count": 17,
      "id": "1ccb24c7",
      "metadata": {
        "id": "1ccb24c7"
      },
      "outputs": [],
      "source": [
        "# data_path is the root where we have extracted the dataset.zip file\n",
        "\n",
        "image_data = ImageFolder(root=data_path,transform=transform_var)   "
      ]
    },
    {
      "cell_type": "code",
      "execution_count": 18,
      "id": "4800b5bb",
      "metadata": {
        "id": "4800b5bb",
        "colab": {
          "base_uri": "https://localhost:8080/"
        },
        "outputId": "23405248-7ac3-4cc2-a72f-10d742b45733"
      },
      "outputs": [
        {
          "output_type": "stream",
          "name": "stdout",
          "text": [
            "Length of Dataset is : 30000\n",
            "**************************************************\n",
            "Length of Training data : 24000\n",
            "Length of Testing data : 6000\n",
            "Length of validation data : 2400 = 10% of train data\n",
            "**************************************************\n"
          ]
        }
      ],
      "source": [
        "print(f\"Length of Dataset is : {len(image_data)}\")\n",
        "\n",
        "length_train_data = int(0.8*len(image_data))\n",
        "length_test_data = len(image_data)- length_train_data\n",
        "length_validation_data = int(0.1*length_train_data)\n",
        "print(\"*\"*50)\n",
        "print(f\"Length of Training data : {length_train_data}\")\n",
        "print(f\"Length of Testing data : {length_test_data}\")\n",
        "print(f\"Length of validation data : {length_validation_data} = 10% of train data\")\n",
        "print(\"*\"*50)"
      ]
    },
    {
      "cell_type": "markdown",
      "id": "56a012c0",
      "metadata": {
        "id": "56a012c0"
      },
      "source": [
        "# splitting data into test and train datasets"
      ]
    },
    {
      "cell_type": "code",
      "execution_count": 19,
      "id": "30b14811",
      "metadata": {
        "id": "30b14811"
      },
      "outputs": [],
      "source": [
        "train_dataset,test_dataset = torch.utils.data.dataset.random_split(dataset=image_data,lengths=[length_train_data,length_test_data])"
      ]
    },
    {
      "cell_type": "code",
      "execution_count": 20,
      "id": "a903c926",
      "metadata": {
        "id": "a903c926"
      },
      "outputs": [],
      "source": [
        "length_train_data = int(0.9*0.8*len(image_data))   # splitting train dataset to train and validation datset"
      ]
    },
    {
      "cell_type": "code",
      "execution_count": 21,
      "id": "aa106bcf",
      "metadata": {
        "id": "aa106bcf"
      },
      "outputs": [],
      "source": [
        "train_dataset,validation_dataset = torch.utils.data.dataset.random_split(dataset=train_dataset,lengths=[length_train_data,length_validation_data])"
      ]
    },
    {
      "cell_type": "code",
      "execution_count": 22,
      "id": "1ee11c95",
      "metadata": {
        "id": "1ee11c95",
        "colab": {
          "base_uri": "https://localhost:8080/"
        },
        "outputId": "bdc56e89-ee02-4e2a-fb75-54534b855384"
      },
      "outputs": [
        {
          "output_type": "stream",
          "name": "stdout",
          "text": [
            "Length of Dataset  : 30000\n",
            "**************************************************\n",
            "Length of Training data : 21600\n",
            "Length of Testing data : 6000\n",
            "Length of validation data : 2400\n",
            "**************************************************\n"
          ]
        }
      ],
      "source": [
        "print(f\"Length of Dataset  : {len(image_data)}\")\n",
        "print(\"*\"*50)\n",
        "print(f\"Length of Training data : {len(train_dataset)}\")\n",
        "print(f\"Length of Testing data : {len(test_dataset)}\")\n",
        "print(f\"Length of validation data : {len(validation_dataset)}\")\n",
        "print(\"*\"*50)"
      ]
    },
    {
      "cell_type": "code",
      "execution_count": 22,
      "id": "9ea0e755",
      "metadata": {
        "id": "9ea0e755"
      },
      "outputs": [],
      "source": []
    },
    {
      "cell_type": "markdown",
      "id": "ea10e848",
      "metadata": {
        "id": "ea10e848"
      },
      "source": [
        "# Dataloaders "
      ]
    },
    {
      "cell_type": "markdown",
      "id": "3934e309",
      "metadata": {
        "id": "3934e309"
      },
      "source": [
        "# using iterators to run the data in batches \n",
        "#### (useful for dealing with memory problem)"
      ]
    },
    {
      "cell_type": "code",
      "execution_count": 23,
      "id": "64b7ea56",
      "metadata": {
        "id": "64b7ea56"
      },
      "outputs": [],
      "source": [
        "batch_size_var = 64\n",
        "\n",
        "train_loader = torch.utils.data.DataLoader(dataset= train_dataset, batch_size=batch_size_var,\n",
        "                                          shuffle=True, num_workers=0)\n",
        "\n",
        "test_loader = torch.utils.data.DataLoader(dataset= test_dataset, batch_size=batch_size_var,\n",
        "                                          shuffle=False, num_workers=0)\n",
        "\n",
        "validation_loader = torch.utils.data.DataLoader(dataset= validation_dataset, batch_size=batch_size_var,\n",
        "                                          shuffle=False, num_workers=0)"
      ]
    },
    {
      "cell_type": "code",
      "execution_count": 24,
      "id": "f8b31f1f",
      "metadata": {
        "id": "f8b31f1f",
        "colab": {
          "base_uri": "https://localhost:8080/"
        },
        "outputId": "98202742-cc19-46f7-c10b-ce480c92f3e1"
      },
      "outputs": [
        {
          "output_type": "execute_result",
          "data": {
            "text/plain": [
              "338"
            ]
          },
          "metadata": {},
          "execution_count": 24
        }
      ],
      "source": [
        "len(train_loader)"
      ]
    },
    {
      "cell_type": "markdown",
      "id": "98c1057d",
      "metadata": {
        "id": "98c1057d"
      },
      "source": [
        "# Using pytorch and Alex"
      ]
    },
    {
      "cell_type": "code",
      "execution_count": 25,
      "id": "1ef7da6c",
      "metadata": {
        "id": "1ef7da6c"
      },
      "outputs": [],
      "source": [
        "#all imports given in 2nd block"
      ]
    },
    {
      "cell_type": "markdown",
      "id": "2f7b48ea",
      "metadata": {
        "id": "2f7b48ea"
      },
      "source": [
        "## Random seed is set to 69 to reproduce results under same seeding conditions"
      ]
    },
    {
      "cell_type": "code",
      "execution_count": 26,
      "id": "0df0516a",
      "metadata": {
        "id": "0df0516a"
      },
      "outputs": [],
      "source": [
        "seed_var = 69\n",
        "random.seed(seed_var)\n",
        "np.random.seed(seed_var)\n",
        "torch.manual_seed(seed_var)\n",
        "torch.cuda.manual_seed(seed_var)\n",
        "torch.backends.cudnn.deterministic = True"
      ]
    },
    {
      "cell_type": "code",
      "execution_count": 27,
      "id": "cae7dd8c",
      "metadata": {
        "id": "cae7dd8c"
      },
      "outputs": [],
      "source": [
        "class_count = 3"
      ]
    },
    {
      "cell_type": "code",
      "execution_count": 28,
      "id": "9d901cf4",
      "metadata": {
        "id": "9d901cf4"
      },
      "outputs": [],
      "source": [
        "# Alexnet code implementation!\n",
        "\n",
        "class AlexNet(nn.Module):\n",
        "  def __init__(self, output_class = class_count):\n",
        "      super().__init__()\n",
        "      self.features = nn.Sequential(\n",
        "          nn.Conv2d(in_channels=3, out_channels=96,kernel_size=11,stride=4,padding=2,bias=False),\n",
        "          nn.ReLU(inplace=True),\n",
        "          nn.MaxPool2d(kernel_size=3,stride=2,padding=0),\n",
        "\n",
        "          nn.Conv2d(in_channels=96, out_channels=192,kernel_size=5,stride=1,padding=2,bias=False),\n",
        "          nn.ReLU(inplace=True),\n",
        "          nn.MaxPool2d(kernel_size=3,stride=2,padding=0),\n",
        "\n",
        "          nn.Conv2d(in_channels=192, out_channels=384,kernel_size=3,stride=1,padding=1,bias=False),\n",
        "          nn.ReLU(inplace=True),\n",
        "\n",
        "          nn.Conv2d(in_channels=384, out_channels=256,kernel_size=3,stride=1,padding=1,bias=False),\n",
        "          nn.ReLU(inplace=True),\n",
        "          \n",
        "          nn.Conv2d(in_channels=256, out_channels=256,kernel_size=3,stride=1,padding=1,bias=False),\n",
        "          nn.ReLU(inplace=True),\n",
        "          nn.MaxPool2d(kernel_size=3,stride=2,padding=0),\n",
        "          )\n",
        "      \n",
        "      self.avgpool = nn.AdaptiveAvgPool2d((6, 6))\n",
        "      self.classifier = nn.Sequential(\n",
        "          nn.Dropout(),\n",
        "          nn.Linear(in_features=256*6*6,out_features=4096),\n",
        "          nn.ReLU(inplace=True),\n",
        "          nn.Dropout(),\n",
        "          nn.Linear(in_features=4096,out_features=4096),\n",
        "          nn.ReLU(inplace=True),\n",
        "          nn.Linear(in_features=4096,out_features=output_class),\n",
        "        )\n",
        "      \n",
        "  def forward(self,x):\n",
        "    x = self.features(x)\n",
        "    x = self.avgpool(x)\n",
        "#     print(f\"Shape of input after 5 Convolution layers : {x.shape}\")\n",
        "    x = x.view(x.size(0),256*6*6) \n",
        "#     print(f\"Shape of x after viewing : {x.shape}\")\n",
        "    x = self.classifier(x)\n",
        "    return x\n"
      ]
    },
    {
      "cell_type": "code",
      "execution_count": 29,
      "id": "2ecba562",
      "metadata": {
        "id": "2ecba562"
      },
      "outputs": [],
      "source": [
        "# Funtion to count the trainable parameters in a model\n",
        "\n",
        "def params_count(model):\n",
        "    count = 0\n",
        "    for parms in model.parameters():\n",
        "        if parms.requires_grad:\n",
        "            count+=parms.numel()\n",
        "    \n",
        "    print(f\"The given model has {count} parameters to train\")\n",
        "    return count"
      ]
    },
    {
      "cell_type": "markdown",
      "id": "2734714e",
      "metadata": {
        "id": "2734714e"
      },
      "source": [
        "# Model initiallized"
      ]
    },
    {
      "cell_type": "code",
      "execution_count": 30,
      "id": "46f77801",
      "metadata": {
        "id": "46f77801"
      },
      "outputs": [],
      "source": [
        "device = torch.device(\"cuda\" if torch.cuda.is_available() else \"cpu\")\n",
        "model_alex = AlexNet(output_class=3).to(device)"
      ]
    },
    {
      "cell_type": "code",
      "execution_count": 31,
      "id": "1e9fca1a",
      "metadata": {
        "id": "1e9fca1a",
        "colab": {
          "base_uri": "https://localhost:8080/"
        },
        "outputId": "c6f237fa-a5ab-410e-fc6f-dba3c4c7215c"
      },
      "outputs": [
        {
          "output_type": "stream",
          "name": "stdout",
          "text": [
            "The given model has 57180195 parameters to train\n"
          ]
        },
        {
          "output_type": "execute_result",
          "data": {
            "text/plain": [
              "57180195"
            ]
          },
          "metadata": {},
          "execution_count": 31
        }
      ],
      "source": [
        "#parameter count \n",
        "params_count(model_alex)"
      ]
    },
    {
      "cell_type": "code",
      "execution_count": 31,
      "id": "ff1bbcde",
      "metadata": {
        "id": "ff1bbcde"
      },
      "outputs": [],
      "source": [
        "\n",
        "    "
      ]
    },
    {
      "cell_type": "code",
      "execution_count": 32,
      "id": "6395b193",
      "metadata": {
        "id": "6395b193"
      },
      "outputs": [],
      "source": [
        "# function to calculate accuracy\n",
        "\n",
        "def model_accuracy(y_true,y_pred):\n",
        "    y_hat = y_pred.argmax(1,keepdim=True)\n",
        "#     print(\"y_pred\",y_pred)\n",
        "    \n",
        "    count = y_hat.eq(y_true.view_as(y_hat)).sum()\n",
        "#     print(\"count\",count)\n",
        "    acc = count.float()/y_true.shape[0]\n",
        "    return acc"
      ]
    },
    {
      "cell_type": "code",
      "execution_count": 32,
      "id": "9a41c70b",
      "metadata": {
        "id": "9a41c70b"
      },
      "outputs": [],
      "source": []
    },
    {
      "cell_type": "markdown",
      "id": "06cb96d2",
      "metadata": {
        "id": "06cb96d2"
      },
      "source": [
        "# parameters to optimize/ adjust / initiallize"
      ]
    },
    {
      "cell_type": "code",
      "execution_count": 33,
      "id": "a3f7204e",
      "metadata": {
        "id": "a3f7204e"
      },
      "outputs": [],
      "source": [
        "# optimizer = optim.Adam(model_alex.parameters(),lr=0.001)\n",
        "optimizer = optim.SGD(model_alex.parameters(), lr=0.01, momentum=0.9)\n",
        "\n",
        "criterion = nn.CrossEntropyLoss()\n",
        "\n",
        "# device = torch.device(\"cuda\" if torch.cuda.is_available() else \"cpu\")\n",
        "\n",
        "model_alex = model_alex.to(device)"
      ]
    },
    {
      "cell_type": "code",
      "execution_count": 33,
      "id": "d4f49da1",
      "metadata": {
        "id": "d4f49da1"
      },
      "outputs": [],
      "source": []
    },
    {
      "cell_type": "code",
      "execution_count": 34,
      "id": "18bd93da",
      "metadata": {
        "id": "18bd93da"
      },
      "outputs": [],
      "source": [
        "# function for Training the model\n",
        "\n",
        "def trainModel(model,iterator,optimizer,criterion,device):\n",
        "    epoch_loss = 0\n",
        "    epoch_acc = 0\n",
        "    model.train()\n",
        "    \n",
        "    for x,y in iterator:\n",
        "        x = x.to(device)   # images\n",
        "        y = y.to(device)   # class - labels\n",
        "        optimizer.zero_grad()\n",
        "        \n",
        "        y_pred = model(x)\n",
        "        \n",
        "        loss = criterion(y_pred,y)\n",
        "        acc = model_accuracy(y_true=y,y_pred=y_pred)\n",
        "        \n",
        "        loss.backward()\n",
        "        optimizer.step()\n",
        "        epoch_loss += loss.item()\n",
        "        epoch_acc += acc.item()\n",
        "        \n",
        "    loss_var = epoch_loss/len(iterator)\n",
        "    acc_var = epoch_acc/len(iterator)\n",
        "    return epoch_loss/len(iterator) , epoch_acc/len(iterator)"
      ]
    },
    {
      "cell_type": "code",
      "execution_count": 35,
      "id": "16177232",
      "metadata": {
        "id": "16177232"
      },
      "outputs": [],
      "source": [
        "# function for Testing the model\n",
        "\n",
        "def evaluateModel(model,iterator,optimizer,criterion,device):\n",
        "    epoch_loss = 0\n",
        "    epoch_acc = 0\n",
        "    model.eval()\n",
        "    \n",
        "    with torch.no_grad(): \n",
        "        for x,y in iterator:\n",
        "            x = x.to(device)\n",
        "            y = y.to(device)\n",
        "#             optimizer.zero_grad()\n",
        "\n",
        "            y_pred = model(x)\n",
        "\n",
        "            loss = criterion(y_pred,y)\n",
        "            acc = model_accuracy(y_true=y,y_pred=y_pred)\n",
        "\n",
        "#             loss.backward()\n",
        "#             optimizer.step()\n",
        "            epoch_loss += loss.item()\n",
        "            epoch_acc += acc.item()\n",
        "        \n",
        "    return epoch_loss/len(iterator) , epoch_acc/len(iterator)"
      ]
    },
    {
      "cell_type": "code",
      "execution_count": 36,
      "id": "c9fbfe85",
      "metadata": {
        "id": "c9fbfe85"
      },
      "outputs": [],
      "source": [
        "# function to calculate training and testing times\n",
        "\n",
        "def time_stamps(st,et,name_tag = \"\"):  # start time:st ; end time :et\n",
        "    run_time = -(st - et)\n",
        "    run_time_mins = int(run_time/60)\n",
        "    run_time_sec = int(run_time - run_time_mins*60)\n",
        "    print()\n",
        "    print(f\"Elapsed time for {name_tag} is {run_time_mins} mins and {run_time_sec} seconds \\n\")\n",
        "    return run_time\n",
        "    "
      ]
    },
    {
      "cell_type": "code",
      "execution_count": 37,
      "id": "13ed4e4f",
      "metadata": {
        "id": "13ed4e4f"
      },
      "outputs": [],
      "source": [
        "# useful for creating python progress bars\n",
        "from tqdm import trange\n",
        "from tqdm.notebook import tqdm_notebook\n",
        "from tqdm import tqdm\n"
      ]
    },
    {
      "cell_type": "code",
      "execution_count": 38,
      "id": "060ad3f4",
      "metadata": {
        "id": "060ad3f4",
        "colab": {
          "base_uri": "https://localhost:8080/"
        },
        "outputId": "344a35a8-3da1-48e9-c462-103ec5dfa348"
      },
      "outputs": [
        {
          "output_type": "stream",
          "name": "stdout",
          "text": [
            "\n",
            "Elapsed time for Training and validation is 0 mins and 52 seconds \n",
            "\n",
            "\n",
            "Elapsed time for Testing is 0 mins and 10 seconds \n",
            "\n",
            "************************************************************\n",
            "Epoch : 0\n",
            "************************************************************\n",
            "Train accuracy : 0.68 | Train loss : 0.69\n",
            "Validation accuracy : 0.81 | validation loss : 0.58\n",
            "Test accuracy : 0.81 | Test loss : 0.56\n",
            "************************************************************\n",
            "\n",
            "\n",
            "Elapsed time for Training and validation is 0 mins and 45 seconds \n",
            "\n",
            "\n",
            "Elapsed time for Testing is 0 mins and 10 seconds \n",
            "\n",
            "************************************************************\n",
            "Epoch : 1\n",
            "************************************************************\n",
            "Train accuracy : 0.84 | Train loss : 0.41\n",
            "Validation accuracy : 0.87 | validation loss : 0.34\n",
            "Test accuracy : 0.86 | Test loss : 0.34\n",
            "************************************************************\n",
            "\n",
            "\n",
            "Elapsed time for Training and validation is 0 mins and 44 seconds \n",
            "\n",
            "\n",
            "Elapsed time for Testing is 0 mins and 10 seconds \n",
            "\n",
            "************************************************************\n",
            "Epoch : 2\n",
            "************************************************************\n",
            "Train accuracy : 0.87 | Train loss : 0.35\n",
            "Validation accuracy : 0.87 | validation loss : 0.38\n",
            "Test accuracy : 0.87 | Test loss : 0.38\n",
            "************************************************************\n",
            "\n",
            "\n",
            "Elapsed time for Training and validation is 0 mins and 46 seconds \n",
            "\n",
            "\n",
            "Elapsed time for Testing is 0 mins and 10 seconds \n",
            "\n",
            "************************************************************\n",
            "Epoch : 3\n",
            "************************************************************\n",
            "Train accuracy : 0.89 | Train loss : 0.30\n",
            "Validation accuracy : 0.90 | validation loss : 0.28\n",
            "Test accuracy : 0.90 | Test loss : 0.26\n",
            "************************************************************\n",
            "\n",
            "\n",
            "Elapsed time for Training and validation is 0 mins and 44 seconds \n",
            "\n",
            "\n",
            "Elapsed time for Testing is 0 mins and 10 seconds \n",
            "\n",
            "************************************************************\n",
            "Epoch : 4\n",
            "************************************************************\n",
            "Train accuracy : 0.90 | Train loss : 0.26\n",
            "Validation accuracy : 0.88 | validation loss : 0.32\n",
            "Test accuracy : 0.88 | Test loss : 0.31\n",
            "************************************************************\n",
            "\n",
            "\n",
            "Elapsed time for Training and validation is 0 mins and 45 seconds \n",
            "\n",
            "\n",
            "Elapsed time for Testing is 0 mins and 10 seconds \n",
            "\n",
            "************************************************************\n",
            "Epoch : 5\n",
            "************************************************************\n",
            "Train accuracy : 0.91 | Train loss : 0.24\n",
            "Validation accuracy : 0.90 | validation loss : 0.25\n",
            "Test accuracy : 0.91 | Test loss : 0.25\n",
            "************************************************************\n",
            "\n",
            "\n",
            "Elapsed time for Training and validation is 0 mins and 44 seconds \n",
            "\n",
            "\n",
            "Elapsed time for Testing is 0 mins and 10 seconds \n",
            "\n",
            "************************************************************\n",
            "Epoch : 6\n",
            "************************************************************\n",
            "Train accuracy : 0.92 | Train loss : 0.21\n",
            "Validation accuracy : 0.92 | validation loss : 0.21\n",
            "Test accuracy : 0.92 | Test loss : 0.21\n",
            "************************************************************\n",
            "\n",
            "\n",
            "Elapsed time for Training and validation is 0 mins and 44 seconds \n",
            "\n",
            "\n",
            "Elapsed time for Testing is 0 mins and 10 seconds \n",
            "\n",
            "************************************************************\n",
            "Epoch : 7\n",
            "************************************************************\n",
            "Train accuracy : 0.93 | Train loss : 0.19\n",
            "Validation accuracy : 0.91 | validation loss : 0.24\n",
            "Test accuracy : 0.91 | Test loss : 0.24\n",
            "************************************************************\n",
            "\n",
            "\n",
            "Elapsed time for Training and validation is 0 mins and 45 seconds \n",
            "\n",
            "\n",
            "Elapsed time for Testing is 0 mins and 9 seconds \n",
            "\n",
            "************************************************************\n",
            "Epoch : 8\n",
            "************************************************************\n",
            "Train accuracy : 0.94 | Train loss : 0.17\n",
            "Validation accuracy : 0.93 | validation loss : 0.19\n",
            "Test accuracy : 0.93 | Test loss : 0.19\n",
            "************************************************************\n",
            "\n",
            "\n",
            "Elapsed time for Training and validation is 0 mins and 42 seconds \n",
            "\n",
            "\n",
            "Elapsed time for Testing is 0 mins and 10 seconds \n",
            "\n",
            "************************************************************\n",
            "Epoch : 9\n",
            "************************************************************\n",
            "Train accuracy : 0.94 | Train loss : 0.16\n",
            "Validation accuracy : 0.91 | validation loss : 0.23\n",
            "Test accuracy : 0.92 | Test loss : 0.21\n",
            "************************************************************\n",
            "\n",
            "\n",
            "Elapsed time for Training and validation is 0 mins and 43 seconds \n",
            "\n",
            "\n",
            "Elapsed time for Testing is 0 mins and 10 seconds \n",
            "\n",
            "************************************************************\n",
            "Epoch : 10\n",
            "************************************************************\n",
            "Train accuracy : 0.95 | Train loss : 0.14\n",
            "Validation accuracy : 0.92 | validation loss : 0.21\n",
            "Test accuracy : 0.92 | Test loss : 0.22\n",
            "************************************************************\n",
            "\n",
            "\n",
            "Elapsed time for Training and validation is 0 mins and 42 seconds \n",
            "\n",
            "\n",
            "Elapsed time for Testing is 0 mins and 10 seconds \n",
            "\n",
            "************************************************************\n",
            "Epoch : 11\n",
            "************************************************************\n",
            "Train accuracy : 0.96 | Train loss : 0.12\n",
            "Validation accuracy : 0.92 | validation loss : 0.21\n",
            "Test accuracy : 0.93 | Test loss : 0.20\n",
            "************************************************************\n",
            "\n",
            "Total run time for all epochs is : 665.680760253 | specific : 11 minutes and 5.680760253000017 seconds \n"
          ]
        }
      ],
      "source": [
        "num_epochs = 12\n",
        "loss_best = float(\"inf\")   # infinity\n",
        "run_time_train_lst = []\n",
        "run_time_test_lst = []\n",
        "loss_train_list, loss_valid_list, loss_test_list = [],[],[]\n",
        "acc_train_list, acc_valid_list, acc_test_list = [],[],[]\n",
        "\n",
        "\n",
        "for epoch in range(num_epochs):\n",
        "    start_time = time.monotonic()\n",
        "    \n",
        "    train_loss,train_acc = trainModel(model=model_alex,iterator=train_loader,optimizer=optimizer,criterion=criterion,device=device)\n",
        "    validation_loss,validation_acc = evaluateModel(model=model_alex,iterator=validation_loader,optimizer=None,criterion=criterion,device=device)\n",
        "    loss_train_list.append(train_loss)\n",
        "    loss_valid_list.append(validation_loss)\n",
        "    acc_train_list.append(train_acc)\n",
        "    acc_valid_list.append(validation_acc)\n",
        "\n",
        "\n",
        "    if validation_loss < loss_best :\n",
        "        loss_best = validation_loss\n",
        "        torch.save(model_alex.state_dict(),\"model_best_state.pt\")\n",
        "        \n",
        "    end_time = time.monotonic()\n",
        "    \n",
        "    run_time = time_stamps(st=start_time,et=end_time,name_tag = \"Training and validation\")\n",
        "    run_time_train_lst.append(run_time)\n",
        "    \n",
        "    \n",
        "    # testing using saved model state\n",
        "#     model_alex.load_state_dict(torch.load(\"model_best_state.pt\"))  # we will use this state to run after running all epochs\n",
        "    \n",
        "    start_time = time.monotonic()\n",
        "    \n",
        "    test_loss,test_acc = evaluateModel(model=model_alex,iterator=test_loader,optimizer=None,criterion=criterion,device=device)\n",
        "    loss_test_list.append(test_loss)\n",
        "    acc_test_list.append(test_acc)\n",
        "\n",
        "    end_time = time.monotonic()\n",
        "    run_time = time_stamps(st=start_time,et=end_time,name_tag = \"Testing\")\n",
        "    run_time_test_lst.append(run_time)\n",
        "\n",
        "    print(\"*\"*60)\n",
        "    print(f\"Epoch : {epoch}\")\n",
        "    print(\"*\"*60)\n",
        "    print(f\"Train accuracy : {train_acc :.2f} | Train loss : {train_loss :.2f}\")\n",
        "    print(f\"Validation accuracy : {validation_acc:.2f} | validation loss : {validation_loss:.2f}\")\n",
        "    print(f\"Test accuracy : {test_acc :.2f} | Test loss : {test_loss :.2f}\")\n",
        "    print(\"*\"*60)\n",
        "    print()\n",
        "run_time_lst = run_time_train_lst + run_time_test_lst\n",
        "print(f\"Total run time for all epochs is : {sum(run_time_lst)} | specific : {int(sum(run_time_lst)/60)} minutes and {sum(run_time_lst) - int(sum(run_time_lst)/60)*60} seconds \")"
      ]
    },
    {
      "cell_type": "code",
      "execution_count": 39,
      "id": "4ea298c2",
      "metadata": {
        "id": "4ea298c2"
      },
      "outputs": [],
      "source": [
        "def model_predict(model,iter_obj,device):\n",
        "  model.eval()\n",
        "  im,lbs,pr = [],[],[]\n",
        "\n",
        "  with torch.no_grad():\n",
        "    for x,y in iter_obj:\n",
        "      x = x.to(device)\n",
        "      y_pred = model(x)\n",
        "      y_prob = torch.nn.functional.softmax(y_pred,dim=-1)\n",
        "\n",
        "      im.append(x.cpu())\n",
        "      lbs.append(y.cpu())\n",
        "      pr.append(y_prob.cpu())\n",
        "\n",
        "  im = torch.cat(im,dim=0)\n",
        "  lbs = torch.cat(lbs,dim=0)\n",
        "  pr = torch.cat(pr,dim=0)\n",
        "\n",
        "  return im,lbs,pr,y_pred,y"
      ]
    },
    {
      "cell_type": "code",
      "execution_count": 40,
      "id": "4fe7a58a",
      "metadata": {
        "id": "4fe7a58a"
      },
      "outputs": [],
      "source": [
        "i,j,k,l,m = model_predict(model=model_alex,iter_obj=test_loader,device=device)"
      ]
    },
    {
      "cell_type": "code",
      "execution_count": 41,
      "id": "bd46e9f0",
      "metadata": {
        "id": "bd46e9f0",
        "colab": {
          "base_uri": "https://localhost:8080/"
        },
        "outputId": "dc1b40a7-5ade-4329-f06e-4883abc601e3"
      },
      "outputs": [
        {
          "output_type": "execute_result",
          "data": {
            "text/plain": [
              "tensor([1, 2, 0,  ..., 0, 0, 1])"
            ]
          },
          "metadata": {},
          "execution_count": 41
        }
      ],
      "source": [
        "pred_labels = torch.argmax(k,1)\n",
        "pred_labels"
      ]
    },
    {
      "cell_type": "markdown",
      "source": [
        "# Confusion Matrix"
      ],
      "metadata": {
        "id": "zO86B6J77l7l"
      },
      "id": "zO86B6J77l7l"
    },
    {
      "cell_type": "code",
      "source": [
        "def plot_cm(labels,pred_labels,data_labels):\n",
        "    figure = plt.figure(figsize=(8,8))\n",
        "    axis = figure.add_subplot(1,1,1)\n",
        "    cm = confusion_matrix(y_true=labels,y_pred=pred_labels)\n",
        "    cm = ConfusionMatrixDisplay(confusion_matrix=cm,display_labels=data_labels)\n",
        "    cm.plot(values_format=\"d\",ax=axis,cmap=\"PuBuGn\")\n",
        "    plt.xticks(rotation=30)\n",
        "    plt.yticks(rotation=30)\n",
        "    figure.show()"
      ],
      "metadata": {
        "id": "QPh3Yj8K7lEt"
      },
      "id": "QPh3Yj8K7lEt",
      "execution_count": 42,
      "outputs": []
    },
    {
      "cell_type": "code",
      "source": [
        "plot_cm(j,pred_labels,data_labels)"
      ],
      "metadata": {
        "colab": {
          "base_uri": "https://localhost:8080/",
          "height": 662
        },
        "id": "zV2656Pi7lIN",
        "outputId": "664d7b39-352b-46f4-cae7-32d5a79c7277"
      },
      "id": "zV2656Pi7lIN",
      "execution_count": 43,
      "outputs": [
        {
          "output_type": "display_data",
          "data": {
            "text/plain": [
              "<Figure size 800x800 with 2 Axes>"
            ],
            "image/png": "[encoded data removed]"
          },
          "metadata": {}
        }
      ]
    },
    {
      "cell_type": "code",
      "source": [
        "x_axis = range(num_epochs)\n",
        "plt.ylabel(\"Accuracies\")\n",
        "plt.xlabel = \"Number of Epochs\"\n",
        "plt.title(\"Test-Train-Validation Accuracies\")\n",
        "plt.plot(x_axis,acc_train_list,color=\"b\",label=\"Train set\")\n",
        "plt.plot(x_axis,acc_valid_list,color=\"y\",label=\"Validation set\")\n",
        "plt.plot(x_axis,acc_test_list,color=\"r\",label=\"Test set\")\n",
        "plt.legend(loc='best', bbox_to_anchor=(0.5, 0., 0.5, 0.5))\n",
        "plt.show()"
      ],
      "metadata": {
        "id": "rXk_s6M87lLs",
        "colab": {
          "base_uri": "https://localhost:8080/",
          "height": 452
        },
        "outputId": "910582d1-9a1d-40df-ed06-36cf7fa5e81a"
      },
      "id": "rXk_s6M87lLs",
      "execution_count": 44,
      "outputs": [
        {
          "output_type": "display_data",
          "data": {
            "text/plain": [
              "<Figure size 640x480 with 1 Axes>"
            ],
            "image/png": "[encoded data removed]"
          },
          "metadata": {}
        }
      ]
    },
    {
      "cell_type": "code",
      "source": [
        "x_axis = range(num_epochs)\n",
        "plt.ylabel(\"Losses\")\n",
        "plt.xlabel = \"Number of Epochs\"\n",
        "plt.title(\"Test-Train-Validation losses\")\n",
        "plt.plot(x_axis,loss_train_list,color=\"b\",label=\"Train set\")\n",
        "plt.plot(x_axis,loss_valid_list,color=\"y\",label=\"Validation set\")\n",
        "plt.plot(x_axis,loss_test_list,color=\"r\",label=\"Test set\")\n",
        "plt.legend(loc='best', bbox_to_anchor=(0.5, 0., 0.5, 0.5))\n",
        "plt.show()"
      ],
      "metadata": {
        "colab": {
          "base_uri": "https://localhost:8080/",
          "height": 452
        },
        "id": "wk_mMz1VwW2R",
        "outputId": "ed9b8cf5-9bab-4461-b7da-8606a5ed571e"
      },
      "id": "wk_mMz1VwW2R",
      "execution_count": 45,
      "outputs": [
        {
          "output_type": "display_data",
          "data": {
            "text/plain": [
              "<Figure size 640x480 with 1 Axes>"
            ],
            "image/png": "[encoded data removed]"
          },
          "metadata": {}
        }
      ]
    },
    {
      "cell_type": "code",
      "source": [
        "x_axis = range(num_epochs)\n",
        "plt.ylabel(\"Run_time (s)\")\n",
        "plt.xlabel = \"Number of Epochs\"\n",
        "plt.title(\"Train and Test set Run time\")  # Train run time includes validation too\n",
        "plt.bar(x_axis,run_time_train_lst,color=\"b\",label=\"Train set\")\n",
        "# plt.plot(x_axis,loss_valid_list,color=\"y\",label=\"Validation set\")\n",
        "plt.bar(x_axis,run_time_test_lst,color=\"r\",label=\"Test set\")\n",
        "plt.legend(loc='best', bbox_to_anchor=(0.5, 0., 0.85, 0.5))\n",
        "plt.show()"
      ],
      "metadata": {
        "colab": {
          "base_uri": "https://localhost:8080/",
          "height": 452
        },
        "id": "rgFRnzzfwW7h",
        "outputId": "02924f8a-9e3b-4fc1-8aba-6566541aa721"
      },
      "id": "rgFRnzzfwW7h",
      "execution_count": 46,
      "outputs": [
        {
          "output_type": "display_data",
          "data": {
            "text/plain": [
              "<Figure size 640x480 with 1 Axes>"
            ],
            "image/png": "[encoded data removed]"
          },
          "metadata": {}
        }
      ]
    },
    {
      "cell_type": "code",
      "source": [],
      "metadata": {
        "id": "Uf31sXKKlCuY"
      },
      "id": "Uf31sXKKlCuY",
      "execution_count": 46,
      "outputs": []
    },
    {
      "cell_type": "markdown",
      "source": [
        "## This Assignment takes heavy computational load which lead to runtime crash multiple time halting progress\n",
        "\n",
        "## we are saving results to file which can be used later on!"
      ],
      "metadata": {
        "id": "cGVKDfx9lD0H"
      },
      "id": "cGVKDfx9lD0H"
    },
    {
      "cell_type": "code",
      "source": [
        "vars_file_path = \"vars_file\""
      ],
      "metadata": {
        "id": "Sv6vXaX3lfaZ"
      },
      "id": "Sv6vXaX3lfaZ",
      "execution_count": 49,
      "outputs": []
    },
    {
      "cell_type": "code",
      "source": [
        "with open(vars_file_path,mode = \"a\") as fp:\n",
        "    fp.write(\"\\n\")\n",
        "    fp.write(f\"Base Model\\n\")\n",
        "    fp.write(f\"Training loss :{loss_train_list}\\n\")\n",
        "    fp.write(f\"Validation loss :{loss_valid_list}\\n\")\n",
        "    fp.write(f\"Testing loss :{loss_test_list}\\n\")\n",
        "    fp.write(\"\\n\")\n",
        "    fp.write(f\"Training Accuracy :{acc_train_list}\\n\")\n",
        "    fp.write(f\"Validation Accuracy :{acc_valid_list}\\n\")\n",
        "    fp.write(f\"Testing Accuracy :{acc_test_list}\\n\")\n",
        "    fp.write(\"\\n\")\n",
        "    fp.write(f\"Training Runtime :{run_time_train_lst}\\n\")\n",
        "    fp.write(f\"Testing Runtime :{run_time_test_lst}\\n\")\n",
        "    fp.write(f\"Total Runtime :{sum(run_time_lst)}\\n\")\n",
        "\n",
        "\n",
        "    fp.write(\"\\n\")\n"
      ],
      "metadata": {
        "id": "EP7wZsexlCxt"
      },
      "id": "EP7wZsexlCxt",
      "execution_count": 50,
      "outputs": []
    },
    {
      "cell_type": "code",
      "source": [],
      "metadata": {
        "id": "p-FzWdzwlEb3"
      },
      "id": "p-FzWdzwlEb3",
      "execution_count": 50,
      "outputs": []
    },
    {
      "cell_type": "markdown",
      "source": [
        "# Improvized model 1 : Weights Initializer using kaiming and xavier normal dist"
      ],
      "metadata": {
        "id": "XKWfgQSjx_09"
      },
      "id": "XKWfgQSjx_09"
    },
    {
      "cell_type": "code",
      "source": [
        "# The modification follows same architecture of AlexNet as base model\n",
        "\n",
        "model_alex_1 = AlexNet(output_class=3).to(device)\n",
        "\n",
        "# Function to initialize parameters\n",
        "def params_initialization(layer):\n",
        "    if isinstance(layer,nn.Conv2d):\n",
        "        print(type(layer),\"True\")\n",
        "        nn.init.kaiming_normal_(layer.weight.data , nonlinearity=\"relu\")\n",
        "        nn.init.constant_(layer.bias.data,val=0)\n",
        "    elif isinstance(layer, nn.Linear):\n",
        "        nn.init.xavier_normal_(layer.weight.data,gain=nn.init.calculate_gain(\"relu\"))\n",
        "        nn.init.constant_(layer.bias.data,val=0)\n",
        "\n",
        "params_initialization(model_alex_1)\n",
        "\n",
        "# optimizer = optim.Adam(model_alex.parameters(),lr=0.001)\n",
        "optimizer = optim.SGD(model_alex_1.parameters(), lr=0.01, momentum=0.9)\n",
        "\n",
        "criterion = nn.CrossEntropyLoss()\n",
        "\n",
        "# device = torch.device(\"cuda\" if torch.cuda.is_available() else \"cpu\")\n",
        "\n",
        "model_alex_1 = model_alex_1.to(device)\n",
        "\n",
        "num_epochs = 12\n",
        "loss_best = float(\"inf\")   # infinity\n",
        "run_time_train_lst1 = []\n",
        "run_time_test_lst1 = []\n",
        "loss_train_list1, loss_valid_list1, loss_test_list1 = [],[],[]\n",
        "acc_train_list1, acc_valid_list1, acc_test_list1 = [],[],[]\n",
        "\n",
        "\n",
        "for epoch in range(num_epochs):\n",
        "    start_time = time.monotonic()\n",
        "    \n",
        "    train_loss,train_acc = trainModel(model=model_alex_1,iterator=train_loader,optimizer=optimizer,criterion=criterion,device=device)\n",
        "    validation_loss,validation_acc = evaluateModel(model=model_alex_1,iterator=validation_loader,optimizer=None,criterion=criterion,device=device)\n",
        "    loss_train_list1.append(train_loss)\n",
        "    loss_valid_list1.append(validation_loss)\n",
        "    acc_train_list1.append(train_acc)\n",
        "    acc_valid_list1.append(validation_acc)\n",
        "\n",
        "\n",
        "    if validation_loss < loss_best :\n",
        "        loss_best = validation_loss\n",
        "        torch.save(model_alex_1.state_dict(),\"model_best_state_1.pt\")\n",
        "        \n",
        "    end_time = time.monotonic()\n",
        "    \n",
        "    run_time = time_stamps(st=start_time,et=end_time,name_tag = \"Training and validation\")\n",
        "    run_time_train_lst1.append(run_time)\n",
        "    \n",
        "    \n",
        "    # testing using saved model state\n",
        "#     model_alex_1.load_state_dict(torch.load(\"model_best_state.pt\"))  # we will use this state to run after running all epochs\n",
        "    \n",
        "    start_time = time.monotonic()\n",
        "    \n",
        "    test_loss,test_acc = evaluateModel(model=model_alex_1,iterator=test_loader,optimizer=None,criterion=criterion,device=device)\n",
        "    loss_test_list1.append(test_loss)\n",
        "    acc_test_list1.append(test_acc)\n",
        "\n",
        "    end_time = time.monotonic()\n",
        "    run_time = time_stamps(st=start_time,et=end_time,name_tag = \"Testing\")\n",
        "    run_time_test_lst1.append(run_time)\n",
        "\n",
        "    print(\"*\"*60)\n",
        "    print(f\"Epoch : {epoch}\")\n",
        "    print(\"*\"*60)\n",
        "    print(f\"Train accuracy : {train_acc :.2f} | Train loss : {train_loss :.2f}\")\n",
        "    print(f\"Validation accuracy : {validation_acc:.2f} | validation loss : {validation_loss:.2f}\")\n",
        "    print(f\"Test accuracy : {test_acc :.2f} | Test loss : {test_loss :.2f}\")\n",
        "    print(\"*\"*60)\n",
        "    print()\n",
        "run_time_lst1 = run_time_train_lst1 + run_time_test_lst1\n",
        "print(f\"Total run time for all epochs is : {sum(run_time_lst1)} | specific : {int(sum(run_time_lst1)/60)} minutes and {sum(run_time_lst1) - int(sum(run_time_lst1)/60)*60} seconds \")"
      ],
      "metadata": {
        "id": "GX8OOGBwx-lW",
        "colab": {
          "base_uri": "https://localhost:8080/"
        },
        "outputId": "1621b1df-ba40-4179-f9a0-e3a6863b4d5b"
      },
      "id": "GX8OOGBwx-lW",
      "execution_count": 51,
      "outputs": [
        {
          "output_type": "stream",
          "name": "stdout",
          "text": [
            "\n",
            "Elapsed time for Training and validation is 0 mins and 44 seconds \n",
            "\n",
            "\n",
            "Elapsed time for Testing is 0 mins and 10 seconds \n",
            "\n",
            "************************************************************\n",
            "Epoch : 0\n",
            "************************************************************\n",
            "Train accuracy : 0.67 | Train loss : 0.74\n",
            "Validation accuracy : 0.82 | validation loss : 0.50\n",
            "Test accuracy : 0.81 | Test loss : 0.49\n",
            "************************************************************\n",
            "\n",
            "\n",
            "Elapsed time for Training and validation is 0 mins and 45 seconds \n",
            "\n",
            "\n",
            "Elapsed time for Testing is 0 mins and 10 seconds \n",
            "\n",
            "************************************************************\n",
            "Epoch : 1\n",
            "************************************************************\n",
            "Train accuracy : 0.83 | Train loss : 0.44\n",
            "Validation accuracy : 0.87 | validation loss : 0.37\n",
            "Test accuracy : 0.87 | Test loss : 0.35\n",
            "************************************************************\n",
            "\n",
            "\n",
            "Elapsed time for Training and validation is 0 mins and 46 seconds \n",
            "\n",
            "\n",
            "Elapsed time for Testing is 0 mins and 10 seconds \n",
            "\n",
            "************************************************************\n",
            "Epoch : 2\n",
            "************************************************************\n",
            "Train accuracy : 0.87 | Train loss : 0.35\n",
            "Validation accuracy : 0.88 | validation loss : 0.30\n",
            "Test accuracy : 0.89 | Test loss : 0.30\n",
            "************************************************************\n",
            "\n",
            "\n",
            "Elapsed time for Training and validation is 0 mins and 45 seconds \n",
            "\n",
            "\n",
            "Elapsed time for Testing is 0 mins and 10 seconds \n",
            "\n",
            "************************************************************\n",
            "Epoch : 3\n",
            "************************************************************\n",
            "Train accuracy : 0.89 | Train loss : 0.30\n",
            "Validation accuracy : 0.89 | validation loss : 0.31\n",
            "Test accuracy : 0.89 | Test loss : 0.28\n",
            "************************************************************\n",
            "\n",
            "\n",
            "Elapsed time for Training and validation is 0 mins and 45 seconds \n",
            "\n",
            "\n",
            "Elapsed time for Testing is 0 mins and 10 seconds \n",
            "\n",
            "************************************************************\n",
            "Epoch : 4\n",
            "************************************************************\n",
            "Train accuracy : 0.90 | Train loss : 0.27\n",
            "Validation accuracy : 0.90 | validation loss : 0.29\n",
            "Test accuracy : 0.90 | Test loss : 0.29\n",
            "************************************************************\n",
            "\n",
            "\n",
            "Elapsed time for Training and validation is 0 mins and 45 seconds \n",
            "\n",
            "\n",
            "Elapsed time for Testing is 0 mins and 10 seconds \n",
            "\n",
            "************************************************************\n",
            "Epoch : 5\n",
            "************************************************************\n",
            "Train accuracy : 0.91 | Train loss : 0.24\n",
            "Validation accuracy : 0.89 | validation loss : 0.29\n",
            "Test accuracy : 0.90 | Test loss : 0.27\n",
            "************************************************************\n",
            "\n",
            "\n",
            "Elapsed time for Training and validation is 0 mins and 45 seconds \n",
            "\n",
            "\n",
            "Elapsed time for Testing is 0 mins and 10 seconds \n",
            "\n",
            "************************************************************\n",
            "Epoch : 6\n",
            "************************************************************\n",
            "Train accuracy : 0.92 | Train loss : 0.21\n",
            "Validation accuracy : 0.92 | validation loss : 0.23\n",
            "Test accuracy : 0.92 | Test loss : 0.22\n",
            "************************************************************\n",
            "\n",
            "\n",
            "Elapsed time for Training and validation is 0 mins and 44 seconds \n",
            "\n",
            "\n",
            "Elapsed time for Testing is 0 mins and 10 seconds \n",
            "\n",
            "************************************************************\n",
            "Epoch : 7\n",
            "************************************************************\n",
            "Train accuracy : 0.93 | Train loss : 0.19\n",
            "Validation accuracy : 0.91 | validation loss : 0.26\n",
            "Test accuracy : 0.91 | Test loss : 0.26\n",
            "************************************************************\n",
            "\n",
            "\n",
            "Elapsed time for Training and validation is 0 mins and 45 seconds \n",
            "\n",
            "\n",
            "Elapsed time for Testing is 0 mins and 10 seconds \n",
            "\n",
            "************************************************************\n",
            "Epoch : 8\n",
            "************************************************************\n",
            "Train accuracy : 0.94 | Train loss : 0.17\n",
            "Validation accuracy : 0.93 | validation loss : 0.20\n",
            "Test accuracy : 0.92 | Test loss : 0.21\n",
            "************************************************************\n",
            "\n",
            "\n",
            "Elapsed time for Training and validation is 0 mins and 44 seconds \n",
            "\n",
            "\n",
            "Elapsed time for Testing is 0 mins and 10 seconds \n",
            "\n",
            "************************************************************\n",
            "Epoch : 9\n",
            "************************************************************\n",
            "Train accuracy : 0.94 | Train loss : 0.15\n",
            "Validation accuracy : 0.92 | validation loss : 0.23\n",
            "Test accuracy : 0.93 | Test loss : 0.21\n",
            "************************************************************\n",
            "\n",
            "\n",
            "Elapsed time for Training and validation is 0 mins and 44 seconds \n",
            "\n",
            "\n",
            "Elapsed time for Testing is 0 mins and 10 seconds \n",
            "\n",
            "************************************************************\n",
            "Epoch : 10\n",
            "************************************************************\n",
            "Train accuracy : 0.94 | Train loss : 0.15\n",
            "Validation accuracy : 0.91 | validation loss : 0.25\n",
            "Test accuracy : 0.92 | Test loss : 0.23\n",
            "************************************************************\n",
            "\n",
            "\n",
            "Elapsed time for Training and validation is 0 mins and 43 seconds \n",
            "\n",
            "\n",
            "Elapsed time for Testing is 0 mins and 10 seconds \n",
            "\n",
            "************************************************************\n",
            "Epoch : 11\n",
            "************************************************************\n",
            "Train accuracy : 0.95 | Train loss : 0.13\n",
            "Validation accuracy : 0.92 | validation loss : 0.22\n",
            "Test accuracy : 0.93 | Test loss : 0.22\n",
            "************************************************************\n",
            "\n",
            "Total run time for all epochs is : 665.8710949069996 | specific : 11 minutes and 5.871094906999588 seconds \n"
          ]
        }
      ]
    },
    {
      "cell_type": "code",
      "source": [],
      "metadata": {
        "id": "NPJ9ebE0x-pC"
      },
      "id": "NPJ9ebE0x-pC",
      "execution_count": 51,
      "outputs": []
    },
    {
      "cell_type": "code",
      "source": [],
      "metadata": {
        "id": "bO-Q_qMAx_C_"
      },
      "id": "bO-Q_qMAx_C_",
      "execution_count": 51,
      "outputs": []
    },
    {
      "cell_type": "code",
      "source": [],
      "metadata": {
        "id": "wrQVeUgXx_Gj"
      },
      "id": "wrQVeUgXx_Gj",
      "execution_count": 51,
      "outputs": []
    },
    {
      "cell_type": "code",
      "source": [
        "with open(vars_file_path,mode = \"a\") as fp:\n",
        "    fp.write(\"\\n\")\n",
        "    fp.write(f\"Modified model 1 (weights initiallization)\\n\")\n",
        "    fp.write(f\"Training loss :{loss_train_list1}\\n\")\n",
        "    fp.write(f\"Validation loss :{loss_valid_list1}\\n\")\n",
        "    fp.write(f\"Testing loss :{loss_test_list1}\\n\")\n",
        "    fp.write(\"\\n\")\n",
        "    fp.write(f\"Training Accuracy :{acc_train_list1}\\n\")\n",
        "    fp.write(f\"Validation Accuracy :{acc_valid_list1}\\n\")\n",
        "    fp.write(f\"Testing Accuracy :{acc_test_list1}\\n\")\n",
        "    fp.write(\"\\n\")\n",
        "    fp.write(f\"Training Runtime :{run_time_train_lst1}\\n\")\n",
        "    fp.write(f\"Testing Runtime :{run_time_test_lst1}\\n\")\n",
        "    fp.write(f\"Total Runtime :{sum(run_time_lst1)}\\n\")\n",
        "\n",
        "\n",
        "    fp.write(\"\\n\")\n"
      ],
      "metadata": {
        "id": "ZB1YFXOzqfAr"
      },
      "id": "ZB1YFXOzqfAr",
      "execution_count": 52,
      "outputs": []
    },
    {
      "cell_type": "markdown",
      "source": [
        "# Improvized model 2 : Early stopping based on validation loss "
      ],
      "metadata": {
        "id": "V0qoABYCA3mU"
      },
      "id": "V0qoABYCA3mU"
    },
    {
      "cell_type": "code",
      "source": [
        "model_alex_2 = AlexNet(output_class=3).to(device)\n",
        "\n",
        "# optimizer = optim.Adam(model_alex.parameters(),lr=0.001)\n",
        "optimizer = optim.SGD(model_alex_2.parameters(), lr=0.01, momentum=0.9)\n",
        "\n",
        "criterion = nn.CrossEntropyLoss()\n",
        "\n",
        "# device = torch.device(\"cuda\" if torch.cuda.is_available() else \"cpu\")\n",
        "\n",
        "model_alex_2 = model_alex_2.to(device)\n",
        "\n",
        "num_epochs = 12\n",
        "loss_best = float(\"inf\")   # infinity\n",
        "run_time_train_lst2 = []\n",
        "run_time_test_lst2 = []\n",
        "\n",
        "patience = 3 ################   3 times (since we only have 12 epochs) the validation loss hikes up...we stop the execution at that epoch!\n",
        "delta = 0.1 ################  here delta is minium change of loss to stop the epoch loop!\n",
        "trigger = 0 ################  counter variable\n",
        "\n",
        "loss_train_list2, loss_valid_list2, loss_test_list2 = [],[],[]\n",
        "acc_train_list2, acc_valid_list2, acc_test_list2 = [],[],[]\n",
        "\n",
        "\n",
        "for epoch in range(num_epochs):\n",
        "    start_time = time.monotonic()\n",
        "    \n",
        "    train_loss,train_acc = trainModel(model=model_alex_2,iterator=train_loader,optimizer=optimizer,criterion=criterion,device=device)\n",
        "    validation_loss,validation_acc = evaluateModel(model=model_alex_2,iterator=validation_loader,optimizer=None,criterion=criterion,device=device)\n",
        "    loss_train_list2.append(train_loss)\n",
        "    loss_valid_list2.append(validation_loss)\n",
        "    acc_train_list2.append(train_acc)\n",
        "    acc_valid_list2.append(validation_acc)\n",
        "\n",
        "\n",
        "    if validation_loss < loss_best :  # first iteration always holds True\n",
        "        loss_best = validation_loss        # we don't know by how much margin the change is since the first elif statement\n",
        "        \n",
        "    elif (loss_best - validation_loss) <= delta: \n",
        "        trigger+= 1\n",
        "        # checking trigger >= patience every time trigger variable is triggered\n",
        "        if trigger >= patience :\n",
        "            print()\n",
        "            print(f\"Early stopping implemented! Loop stopped at Epoch {epoch}!\")\n",
        "            print()\n",
        "            torch.save(model_alex_2.state_dict(),\"model_best_state_2.pt\")\n",
        "            break\n",
        "\n",
        "    elif (loss_best - validation_loss) > delta: \n",
        "        loss_best = validation_loss\n",
        "        trigger = 0  # trigger reset! It should happen 3 times in a row!\n",
        "        torch.save(model_alex_2.state_dict(),\"model_best_state_2.pt\")\n",
        "\n",
        "        \n",
        "        \n",
        "        \n",
        "    end_time = time.monotonic()\n",
        "    \n",
        "    run_time = time_stamps(st=start_time,et=end_time,name_tag = \"Training and validation\")\n",
        "    run_time_train_lst2.append(run_time)\n",
        "    \n",
        "    \n",
        "    # testing using saved model state\n",
        "#     model_alex.load_state_dict(torch.load(\"model_best_state.pt\"))  # we will use this state to run after running all epochs\n",
        "    \n",
        "    start_time = time.monotonic()\n",
        "    \n",
        "    test_loss,test_acc = evaluateModel(model=model_alex_2,iterator=test_loader,optimizer=None,criterion=criterion,device=device)\n",
        "    loss_test_list2.append(test_loss)\n",
        "    acc_test_list2.append(test_acc)\n",
        "\n",
        "    end_time = time.monotonic()\n",
        "    run_time = time_stamps(st=start_time,et=end_time,name_tag = \"Testing\")\n",
        "    run_time_test_lst2.append(run_time)\n",
        "\n",
        "    print(\"*\"*60)\n",
        "    print(f\"Epoch : {epoch} , trigger : {trigger}, best loss : {loss_best}\")\n",
        "    print(\"*\"*60)\n",
        "    print(f\"Train accuracy : {train_acc :.2f} | Train loss : {train_loss :.2f}\")\n",
        "    print(f\"Validation accuracy : {validation_acc:.2f} | validation loss : {validation_loss:.2f}\")\n",
        "    print(f\"Test accuracy : {test_acc :.2f} | Test loss : {test_loss :.2f}\")\n",
        "    print(\"*\"*60)\n",
        "    print()\n",
        "run_time_lst2 = run_time_train_lst2 + run_time_test_lst2\n",
        "print(f\"Total run time for all epochs is : {sum(run_time_lst2)} | specific : {int(sum(run_time_lst2)/60)} minutes and {sum(run_time_lst2) - int(sum(run_time_lst2)/60)*60} seconds \")"
      ],
      "metadata": {
        "id": "sAk7_nNpGFQ_",
        "colab": {
          "base_uri": "https://localhost:8080/"
        },
        "outputId": "8e887228-a1bf-489c-f5bf-c04f04d951e6"
      },
      "id": "sAk7_nNpGFQ_",
      "execution_count": 54,
      "outputs": [
        {
          "output_type": "stream",
          "name": "stdout",
          "text": [
            "\n",
            "Elapsed time for Training and validation is 0 mins and 44 seconds \n",
            "\n",
            "\n",
            "Elapsed time for Testing is 0 mins and 10 seconds \n",
            "\n",
            "************************************************************\n",
            "Epoch : 0 , trigger : 0, best loss : 0.5042083161441904\n",
            "************************************************************\n",
            "Train accuracy : 0.67 | Train loss : 0.70\n",
            "Validation accuracy : 0.80 | validation loss : 0.50\n",
            "Test accuracy : 0.81 | Test loss : 0.47\n",
            "************************************************************\n",
            "\n",
            "\n",
            "Elapsed time for Training and validation is 0 mins and 44 seconds \n",
            "\n",
            "\n",
            "Elapsed time for Testing is 0 mins and 10 seconds \n",
            "\n",
            "************************************************************\n",
            "Epoch : 1 , trigger : 0, best loss : 0.3442896439840919\n",
            "************************************************************\n",
            "Train accuracy : 0.84 | Train loss : 0.43\n",
            "Validation accuracy : 0.87 | validation loss : 0.34\n",
            "Test accuracy : 0.86 | Test loss : 0.35\n",
            "************************************************************\n",
            "\n",
            "\n",
            "Elapsed time for Training and validation is 0 mins and 43 seconds \n",
            "\n",
            "\n",
            "Elapsed time for Testing is 0 mins and 10 seconds \n",
            "\n",
            "************************************************************\n",
            "Epoch : 2 , trigger : 0, best loss : 0.3088430887774417\n",
            "************************************************************\n",
            "Train accuracy : 0.88 | Train loss : 0.33\n",
            "Validation accuracy : 0.89 | validation loss : 0.31\n",
            "Test accuracy : 0.88 | Test loss : 0.32\n",
            "************************************************************\n",
            "\n",
            "\n",
            "Elapsed time for Training and validation is 0 mins and 44 seconds \n",
            "\n",
            "\n",
            "Elapsed time for Testing is 0 mins and 10 seconds \n",
            "\n",
            "************************************************************\n",
            "Epoch : 3 , trigger : 1, best loss : 0.3088430887774417\n",
            "************************************************************\n",
            "Train accuracy : 0.89 | Train loss : 0.29\n",
            "Validation accuracy : 0.87 | validation loss : 0.34\n",
            "Test accuracy : 0.88 | Test loss : 0.31\n",
            "************************************************************\n",
            "\n",
            "\n",
            "Elapsed time for Training and validation is 0 mins and 44 seconds \n",
            "\n",
            "\n",
            "Elapsed time for Testing is 0 mins and 10 seconds \n",
            "\n",
            "************************************************************\n",
            "Epoch : 4 , trigger : 1, best loss : 0.2800929122849515\n",
            "************************************************************\n",
            "Train accuracy : 0.90 | Train loss : 0.27\n",
            "Validation accuracy : 0.90 | validation loss : 0.28\n",
            "Test accuracy : 0.90 | Test loss : 0.27\n",
            "************************************************************\n",
            "\n",
            "\n",
            "Elapsed time for Training and validation is 0 mins and 43 seconds \n",
            "\n",
            "\n",
            "Elapsed time for Testing is 0 mins and 10 seconds \n",
            "\n",
            "************************************************************\n",
            "Epoch : 5 , trigger : 1, best loss : 0.27789533412770223\n",
            "************************************************************\n",
            "Train accuracy : 0.92 | Train loss : 0.23\n",
            "Validation accuracy : 0.89 | validation loss : 0.28\n",
            "Test accuracy : 0.90 | Test loss : 0.27\n",
            "************************************************************\n",
            "\n",
            "\n",
            "Elapsed time for Training and validation is 0 mins and 44 seconds \n",
            "\n",
            "\n",
            "Elapsed time for Testing is 0 mins and 10 seconds \n",
            "\n",
            "************************************************************\n",
            "Epoch : 6 , trigger : 1, best loss : 0.19307943649197878\n",
            "************************************************************\n",
            "Train accuracy : 0.92 | Train loss : 0.21\n",
            "Validation accuracy : 0.93 | validation loss : 0.19\n",
            "Test accuracy : 0.93 | Test loss : 0.19\n",
            "************************************************************\n",
            "\n",
            "\n",
            "Elapsed time for Training and validation is 0 mins and 44 seconds \n",
            "\n",
            "\n",
            "Elapsed time for Testing is 0 mins and 10 seconds \n",
            "\n",
            "************************************************************\n",
            "Epoch : 7 , trigger : 2, best loss : 0.19307943649197878\n",
            "************************************************************\n",
            "Train accuracy : 0.93 | Train loss : 0.18\n",
            "Validation accuracy : 0.92 | validation loss : 0.22\n",
            "Test accuracy : 0.92 | Test loss : 0.22\n",
            "************************************************************\n",
            "\n",
            "\n",
            "Early stopping implemented! Loop stopped at Epoch 8!\n",
            "\n",
            "Total run time for all epochs is : 435.29796114099963 | specific : 7 minutes and 15.297961140999632 seconds \n"
          ]
        }
      ]
    },
    {
      "cell_type": "code",
      "source": [
        "with open(vars_file_path,mode = \"a\") as fp:\n",
        "    fp.write(\"\\n\")\n",
        "    fp.write(f\"Modified model 2 (Early stopping)\\n\")\n",
        "    fp.write(f\"Trigger = {trigger}\")\n",
        "    fp.write(f\"Training loss :{loss_train_list2}\\n\")\n",
        "    fp.write(f\"Validation loss :{loss_valid_list2}\\n\")\n",
        "    fp.write(f\"Testing loss :{loss_test_list2}\\n\")\n",
        "    fp.write(\"\\n\")\n",
        "    fp.write(f\"Training Accuracy :{acc_train_list2}\\n\")\n",
        "    fp.write(f\"Validation Accuracy :{acc_valid_list2}\\n\")\n",
        "    fp.write(f\"Testing Accuracy :{acc_test_list2}\\n\")\n",
        "    fp.write(\"\\n\")\n",
        "    fp.write(f\"Training Runtime :{run_time_train_lst2}\\n\")\n",
        "    fp.write(f\"Testing Runtime :{run_time_test_lst2}\\n\")\n",
        "    fp.write(f\"Total Runtime :{sum(run_time_lst2)}\\n\")\n",
        "\n",
        "\n",
        "    fp.write(\"\\n\")\n"
      ],
      "metadata": {
        "id": "Rccv3CCsGFUl"
      },
      "id": "Rccv3CCsGFUl",
      "execution_count": 55,
      "outputs": []
    },
    {
      "cell_type": "code",
      "source": [],
      "metadata": {
        "id": "A-0OzglAqzD_"
      },
      "id": "A-0OzglAqzD_",
      "execution_count": 55,
      "outputs": []
    },
    {
      "cell_type": "markdown",
      "source": [
        "Improvized model 3 : Gradient clipping "
      ],
      "metadata": {
        "id": "p7aJqL4nxt_0"
      },
      "id": "p7aJqL4nxt_0"
    },
    {
      "cell_type": "code",
      "source": [
        "model_alex_3 = AlexNet(output_class=3).to(device)\n",
        "\n",
        "# optimizer = optim.Adam(model_alex.parameters(),lr=0.001)\n",
        "optimizer = optim.SGD(model_alex_3.parameters(), lr=0.01, momentum=0.9)\n",
        "\n",
        "criterion = nn.CrossEntropyLoss()\n",
        "\n",
        "# device = torch.device(\"cuda\" if torch.cuda.is_available() else \"cpu\")\n",
        "\n",
        "model_alex_3 = model_alex_3.to(device)\n",
        "\n",
        "# function for Training the model\n",
        "\n",
        "def trainModel_GC(model,iterator,optimizer,criterion,device):\n",
        "    epoch_loss = 0\n",
        "    epoch_acc = 0\n",
        "    model.train()\n",
        "    \n",
        "    for x,y in iterator:\n",
        "        x = x.to(device)   # images\n",
        "        y = y.to(device)   # class - labels\n",
        "        optimizer.zero_grad()\n",
        "        \n",
        "        y_pred = model(x)\n",
        "        \n",
        "        loss = criterion(y_pred,y)\n",
        "        acc = model_accuracy(y_true=y,y_pred=y_pred)\n",
        "        \n",
        "        loss.backward()\n",
        "        nn.utils.clip_grad_norm_(model_alex_3.parameters(), max_norm=1.0)  ######### gradient clipping \n",
        "        optimizer.step()\n",
        "        epoch_loss += loss.item()\n",
        "        epoch_acc += acc.item()\n",
        "        \n",
        "    loss_var = epoch_loss/len(iterator)\n",
        "    acc_var = epoch_acc/len(iterator)\n",
        "    return epoch_loss/len(iterator) , epoch_acc/len(iterator)\n",
        "\n",
        "\n",
        "num_epochs = 12\n",
        "loss_best = float(\"inf\")   # infinity\n",
        "run_time_train_lst3 = []\n",
        "run_time_test_lst3 = []\n",
        "loss_train_list3, loss_valid_list3, loss_test_list3 = [],[],[]\n",
        "acc_train_list3, acc_valid_list3, acc_test_list3 = [],[],[]\n",
        "\n",
        "\n",
        "for epoch in range(num_epochs):\n",
        "    start_time = time.monotonic()\n",
        "    \n",
        "    train_loss,train_acc = trainModel_GC(model=model_alex_3,iterator=train_loader,optimizer=optimizer,criterion=criterion,device=device)\n",
        "    validation_loss,validation_acc = evaluateModel(model=model_alex_3,iterator=validation_loader,optimizer=None,criterion=criterion,device=device)\n",
        "    loss_train_list3.append(train_loss)\n",
        "    loss_valid_list3.append(validation_loss)\n",
        "    acc_train_list3.append(train_acc)\n",
        "    acc_valid_list3.append(validation_acc)\n",
        "\n",
        "\n",
        "    if validation_loss < loss_best :\n",
        "        loss_best = validation_loss\n",
        "        torch.save(model_alex_3.state_dict(),\"model_best_state_3.pt\")\n",
        "        \n",
        "    end_time = time.monotonic()\n",
        "    \n",
        "    run_time = time_stamps(st=start_time,et=end_time,name_tag = \"Training and validation\")\n",
        "    run_time_train_lst3.append(run_time)\n",
        "    \n",
        "    \n",
        "    start_time = time.monotonic()\n",
        "    \n",
        "    test_loss,test_acc = evaluateModel(model=model_alex_3,iterator=test_loader,optimizer=None,criterion=criterion,device=device)\n",
        "    loss_test_list3.append(test_loss)\n",
        "    acc_test_list3.append(test_acc)\n",
        "\n",
        "    end_time = time.monotonic()\n",
        "    run_time = time_stamps(st=start_time,et=end_time,name_tag = \"Testing\")\n",
        "    run_time_test_lst3.append(run_time)\n",
        "\n",
        "    print(\"*\"*60)\n",
        "    print(f\"Epoch : {epoch}\")\n",
        "    print(\"*\"*60)\n",
        "    print(f\"Train accuracy : {train_acc :.2f} | Train loss : {train_loss :.2f}\")\n",
        "    print(f\"Validation accuracy : {validation_acc:.2f} | validation loss : {validation_loss:.2f}\")\n",
        "    print(f\"Test accuracy : {test_acc :.2f} | Test loss : {test_loss :.2f}\")\n",
        "    print(\"*\"*60)\n",
        "    print()\n",
        "run_time_lst3 = run_time_train_lst3 + run_time_test_lst3\n",
        "print(f\"Total run time for all epochs is : {sum(run_time_lst3)} | specific : {int(sum(run_time_lst3)/60)} minutes and {sum(run_time_lst3) - int(sum(run_time_lst3)/60)*60} seconds \")"
      ],
      "metadata": {
        "colab": {
          "base_uri": "https://localhost:8080/"
        },
        "id": "pZ5I72EdxuC6",
        "outputId": "b8d6beab-0c34-4493-9214-573bab0f7ab8"
      },
      "id": "pZ5I72EdxuC6",
      "execution_count": 56,
      "outputs": [
        {
          "output_type": "stream",
          "name": "stdout",
          "text": [
            "\n",
            "Elapsed time for Training and validation is 0 mins and 44 seconds \n",
            "\n",
            "\n",
            "Elapsed time for Testing is 0 mins and 10 seconds \n",
            "\n",
            "************************************************************\n",
            "Epoch : 0\n",
            "************************************************************\n",
            "Train accuracy : 0.65 | Train loss : 0.73\n",
            "Validation accuracy : 0.81 | validation loss : 0.47\n",
            "Test accuracy : 0.81 | Test loss : 0.45\n",
            "************************************************************\n",
            "\n",
            "\n",
            "Elapsed time for Training and validation is 0 mins and 44 seconds \n",
            "\n",
            "\n",
            "Elapsed time for Testing is 0 mins and 10 seconds \n",
            "\n",
            "************************************************************\n",
            "Epoch : 1\n",
            "************************************************************\n",
            "Train accuracy : 0.83 | Train loss : 0.42\n",
            "Validation accuracy : 0.87 | validation loss : 0.38\n",
            "Test accuracy : 0.86 | Test loss : 0.37\n",
            "************************************************************\n",
            "\n",
            "\n",
            "Elapsed time for Training and validation is 0 mins and 44 seconds \n",
            "\n",
            "\n",
            "Elapsed time for Testing is 0 mins and 10 seconds \n",
            "\n",
            "************************************************************\n",
            "Epoch : 2\n",
            "************************************************************\n",
            "Train accuracy : 0.86 | Train loss : 0.37\n",
            "Validation accuracy : 0.86 | validation loss : 0.39\n",
            "Test accuracy : 0.84 | Test loss : 0.41\n",
            "************************************************************\n",
            "\n",
            "\n",
            "Elapsed time for Training and validation is 0 mins and 44 seconds \n",
            "\n",
            "\n",
            "Elapsed time for Testing is 0 mins and 10 seconds \n",
            "\n",
            "************************************************************\n",
            "Epoch : 3\n",
            "************************************************************\n",
            "Train accuracy : 0.87 | Train loss : 0.34\n",
            "Validation accuracy : 0.89 | validation loss : 0.30\n",
            "Test accuracy : 0.89 | Test loss : 0.29\n",
            "************************************************************\n",
            "\n",
            "\n",
            "Elapsed time for Training and validation is 0 mins and 44 seconds \n",
            "\n",
            "\n",
            "Elapsed time for Testing is 0 mins and 10 seconds \n",
            "\n",
            "************************************************************\n",
            "Epoch : 4\n",
            "************************************************************\n",
            "Train accuracy : 0.89 | Train loss : 0.30\n",
            "Validation accuracy : 0.90 | validation loss : 0.29\n",
            "Test accuracy : 0.90 | Test loss : 0.27\n",
            "************************************************************\n",
            "\n",
            "\n",
            "Elapsed time for Training and validation is 0 mins and 43 seconds \n",
            "\n",
            "\n",
            "Elapsed time for Testing is 0 mins and 10 seconds \n",
            "\n",
            "************************************************************\n",
            "Epoch : 5\n",
            "************************************************************\n",
            "Train accuracy : 0.90 | Train loss : 0.29\n",
            "Validation accuracy : 0.89 | validation loss : 0.31\n",
            "Test accuracy : 0.89 | Test loss : 0.29\n",
            "************************************************************\n",
            "\n",
            "\n",
            "Elapsed time for Training and validation is 0 mins and 44 seconds \n",
            "\n",
            "\n",
            "Elapsed time for Testing is 0 mins and 10 seconds \n",
            "\n",
            "************************************************************\n",
            "Epoch : 6\n",
            "************************************************************\n",
            "Train accuracy : 0.91 | Train loss : 0.25\n",
            "Validation accuracy : 0.91 | validation loss : 0.23\n",
            "Test accuracy : 0.91 | Test loss : 0.24\n",
            "************************************************************\n",
            "\n",
            "\n",
            "Elapsed time for Training and validation is 0 mins and 43 seconds \n",
            "\n",
            "\n",
            "Elapsed time for Testing is 0 mins and 10 seconds \n",
            "\n",
            "************************************************************\n",
            "Epoch : 7\n",
            "************************************************************\n",
            "Train accuracy : 0.91 | Train loss : 0.24\n",
            "Validation accuracy : 0.92 | validation loss : 0.22\n",
            "Test accuracy : 0.92 | Test loss : 0.23\n",
            "************************************************************\n",
            "\n",
            "\n",
            "Elapsed time for Training and validation is 0 mins and 45 seconds \n",
            "\n",
            "\n",
            "Elapsed time for Testing is 0 mins and 10 seconds \n",
            "\n",
            "************************************************************\n",
            "Epoch : 8\n",
            "************************************************************\n",
            "Train accuracy : 0.92 | Train loss : 0.21\n",
            "Validation accuracy : 0.92 | validation loss : 0.21\n",
            "Test accuracy : 0.92 | Test loss : 0.21\n",
            "************************************************************\n",
            "\n",
            "\n",
            "Elapsed time for Training and validation is 0 mins and 44 seconds \n",
            "\n",
            "\n",
            "Elapsed time for Testing is 0 mins and 10 seconds \n",
            "\n",
            "************************************************************\n",
            "Epoch : 9\n",
            "************************************************************\n",
            "Train accuracy : 0.92 | Train loss : 0.22\n",
            "Validation accuracy : 0.91 | validation loss : 0.23\n",
            "Test accuracy : 0.92 | Test loss : 0.24\n",
            "************************************************************\n",
            "\n",
            "\n",
            "Elapsed time for Training and validation is 0 mins and 45 seconds \n",
            "\n",
            "\n",
            "Elapsed time for Testing is 0 mins and 10 seconds \n",
            "\n",
            "************************************************************\n",
            "Epoch : 10\n",
            "************************************************************\n",
            "Train accuracy : 0.93 | Train loss : 0.20\n",
            "Validation accuracy : 0.90 | validation loss : 0.25\n",
            "Test accuracy : 0.90 | Test loss : 0.25\n",
            "************************************************************\n",
            "\n",
            "\n",
            "Elapsed time for Training and validation is 0 mins and 45 seconds \n",
            "\n",
            "\n",
            "Elapsed time for Testing is 0 mins and 10 seconds \n",
            "\n",
            "************************************************************\n",
            "Epoch : 11\n",
            "************************************************************\n",
            "Train accuracy : 0.93 | Train loss : 0.18\n",
            "Validation accuracy : 0.93 | validation loss : 0.21\n",
            "Test accuracy : 0.92 | Test loss : 0.21\n",
            "************************************************************\n",
            "\n",
            "Total run time for all epochs is : 660.542631487001 | specific : 11 minutes and 0.5426314870010174 seconds \n"
          ]
        }
      ]
    },
    {
      "cell_type": "code",
      "source": [],
      "metadata": {
        "id": "Wv4KYN86xuGD"
      },
      "id": "Wv4KYN86xuGD",
      "execution_count": 56,
      "outputs": []
    },
    {
      "cell_type": "code",
      "source": [
        "with open(vars_file_path,mode = \"a\") as fp:\n",
        "    fp.write(\"\\n\")\n",
        "    fp.write(f\"Modified model 3 (Gradient clipping)\\n\")\n",
        "    fp.write(f\"Training loss :{loss_train_list3}\\n\")\n",
        "    fp.write(f\"Validation loss :{loss_valid_list3}\\n\")\n",
        "    fp.write(f\"Testing loss :{loss_test_list3}\\n\")\n",
        "    fp.write(\"\\n\")\n",
        "    fp.write(f\"Training Accuracy :{acc_train_list3}\\n\")\n",
        "    fp.write(f\"Validation Accuracy :{acc_valid_list3}\\n\")\n",
        "    fp.write(f\"Testing Accuracy :{acc_test_list3}\\n\")\n",
        "    fp.write(\"\\n\")\n",
        "    fp.write(f\"Training Runtime :{run_time_train_lst3}\\n\")\n",
        "    fp.write(f\"Testing Runtime :{run_time_test_lst3}\\n\")\n",
        "    fp.write(f\"Total Runtime :{sum(run_time_lst3)}\\n\")\n",
        "\n",
        "    fp.write(\"\\n\")\n"
      ],
      "metadata": {
        "id": "A-Ri2LqdrD1G"
      },
      "id": "A-Ri2LqdrD1G",
      "execution_count": 57,
      "outputs": []
    },
    {
      "cell_type": "code",
      "source": [
        "# Insimilar way we can implement dropouts, batch Normalization, Learning rate scheduler"
      ],
      "metadata": {
        "id": "uhu1pD9XOAZU"
      },
      "id": "uhu1pD9XOAZU",
      "execution_count": 58,
      "outputs": []
    },
    {
      "cell_type": "markdown",
      "source": [
        "# Improvized model 4 : Dropouts "
      ],
      "metadata": {
        "id": "CSXaxvAMOBjc"
      },
      "id": "CSXaxvAMOBjc"
    },
    {
      "cell_type": "code",
      "source": [
        "class AlexNet_Dropouts(nn.Module):\n",
        "    def __init__(self, output_class=class_count, dropout_prob=0.5):\n",
        "        super().__init__()\n",
        "        self.features = nn.Sequential(\n",
        "            nn.Conv2d(in_channels=3, out_channels=96, kernel_size=11, stride=4, padding=2, bias=False),\n",
        "            nn.ReLU(inplace=True),\n",
        "            nn.MaxPool2d(kernel_size=3, stride=2, padding=0),\n",
        "\n",
        "            nn.Conv2d(in_channels=96, out_channels=192, kernel_size=5, stride=1, padding=2, bias=False),\n",
        "            nn.ReLU(inplace=True),\n",
        "            nn.MaxPool2d(kernel_size=3, stride=2, padding=0),\n",
        "\n",
        "            nn.Conv2d(in_channels=192, out_channels=384, kernel_size=3, stride=1, padding=1, bias=False),\n",
        "            nn.ReLU(inplace=True),\n",
        "\n",
        "            nn.Conv2d(in_channels=384, out_channels=256, kernel_size=3, stride=1, padding=1, bias=False),\n",
        "            nn.ReLU(inplace=True),\n",
        "\n",
        "            nn.Conv2d(in_channels=256, out_channels=256, kernel_size=3, stride=1, padding=1, bias=False),\n",
        "            nn.ReLU(inplace=True),\n",
        "            nn.MaxPool2d(kernel_size=3, stride=2, padding=0),\n",
        "        )\n",
        "\n",
        "        self.avgpool = nn.AdaptiveAvgPool2d((6, 6))\n",
        "        self.classifier = nn.Sequential(\n",
        "            nn.Dropout(p=dropout_prob),\n",
        "            nn.Linear(in_features=256 * 6 * 6, out_features=4096),\n",
        "            nn.ReLU(inplace=True),\n",
        "            nn.Dropout(p=dropout_prob),\n",
        "            nn.Linear(in_features=4096, out_features=4096),\n",
        "            nn.ReLU(inplace=True),\n",
        "            nn.Linear(in_features=4096, out_features=output_class),\n",
        "        )\n",
        "\n",
        "    def forward(self, x):\n",
        "        x = self.features(x)\n",
        "        x = self.avgpool(x)\n",
        "        x = x.view(x.size(0), 256 * 6 * 6)\n",
        "        x = self.classifier(x)\n",
        "        return x\n",
        "\n",
        "model_alex_4 = AlexNet_Dropouts(output_class=3).to(device)"
      ],
      "metadata": {
        "id": "nqCFqFq-OAc7"
      },
      "id": "nqCFqFq-OAc7",
      "execution_count": 59,
      "outputs": []
    },
    {
      "cell_type": "code",
      "source": [
        "# optimizer = optim.Adam(model_alex.parameters(),lr=0.001)\n",
        "optimizer = optim.SGD(model_alex_4.parameters(), lr=0.01, momentum=0.9)\n",
        "\n",
        "criterion = nn.CrossEntropyLoss()\n",
        "\n",
        "# device = torch.device(\"cuda\" if torch.cuda.is_available() else \"cpu\")\n",
        "\n",
        "model_alex_4 = model_alex_4.to(device)\n",
        "\n",
        "num_epochs = 12\n",
        "loss_best = float(\"inf\")   # infinity\n",
        "run_time_train_lst4 = []\n",
        "run_time_test_lst4 = []\n",
        "loss_train_list4, loss_valid_list4, loss_test_list4 = [],[],[]\n",
        "acc_train_list4, acc_valid_list4, acc_test_list4 = [],[],[]\n",
        "\n",
        "\n",
        "for epoch in range(num_epochs):\n",
        "    start_time = time.monotonic()\n",
        "    \n",
        "    train_loss,train_acc = trainModel(model=model_alex_4,iterator=train_loader,optimizer=optimizer,criterion=criterion,device=device)\n",
        "    validation_loss,validation_acc = evaluateModel(model=model_alex_4,iterator=validation_loader,optimizer=None,criterion=criterion,device=device)\n",
        "    loss_train_list4.append(train_loss)\n",
        "    loss_valid_list4.append(validation_loss)\n",
        "    acc_train_list4.append(train_acc)\n",
        "    acc_valid_list4.append(validation_acc)\n",
        "\n",
        "\n",
        "    if validation_loss < loss_best :\n",
        "        loss_best = validation_loss\n",
        "        torch.save(model_alex_4.state_dict(),\"model_best_state_4.pt\")\n",
        "        \n",
        "    end_time = time.monotonic()\n",
        "    \n",
        "    run_time = time_stamps(st=start_time,et=end_time,name_tag = \"Training and validation\")\n",
        "    run_time_train_lst4.append(run_time)\n",
        "    \n",
        "    \n",
        "    # testing using saved model state\n",
        "#     model_alex_1.load_state_dict(torch.load(\"model_best_state.pt\"))  # we will use this state to run after running all epochs\n",
        "    \n",
        "    start_time = time.monotonic()\n",
        "    \n",
        "    test_loss,test_acc = evaluateModel(model=model_alex_4,iterator=test_loader,optimizer=None,criterion=criterion,device=device)\n",
        "    loss_test_list4.append(test_loss)\n",
        "    acc_test_list4.append(test_acc)\n",
        "\n",
        "    end_time = time.monotonic()\n",
        "    run_time = time_stamps(st=start_time,et=end_time,name_tag = \"Testing\")\n",
        "    run_time_test_lst4.append(run_time)\n",
        "\n",
        "    print(\"*\"*60)\n",
        "    print(f\"Epoch : {epoch}\")\n",
        "    print(\"*\"*60)\n",
        "    print(f\"Train accuracy : {train_acc :.2f} | Train loss : {train_loss :.2f}\")\n",
        "    print(f\"Validation accuracy : {validation_acc:.2f} | validation loss : {validation_loss:.2f}\")\n",
        "    print(f\"Test accuracy : {test_acc :.2f} | Test loss : {test_loss :.2f}\")\n",
        "    print(\"*\"*60)\n",
        "    print()\n",
        "run_time_lst4 = run_time_train_lst4 + run_time_test_lst4\n",
        "print(f\"Total run time for all epochs is : {sum(run_time_lst4)} | specific : {int(sum(run_time_lst4)/60)} minutes and {sum(run_time_lst4) - int(sum(run_time_lst4)/60)*60} seconds \")"
      ],
      "metadata": {
        "id": "JZEbaVcuOAgl",
        "colab": {
          "base_uri": "https://localhost:8080/"
        },
        "outputId": "6ee440c3-7b3c-4f44-cb15-a7cfbbec251b"
      },
      "id": "JZEbaVcuOAgl",
      "execution_count": 60,
      "outputs": [
        {
          "output_type": "stream",
          "name": "stdout",
          "text": [
            "\n",
            "Elapsed time for Training and validation is 0 mins and 45 seconds \n",
            "\n",
            "\n",
            "Elapsed time for Testing is 0 mins and 10 seconds \n",
            "\n",
            "************************************************************\n",
            "Epoch : 0\n",
            "************************************************************\n",
            "Train accuracy : 0.65 | Train loss : 0.74\n",
            "Validation accuracy : 0.82 | validation loss : 0.48\n",
            "Test accuracy : 0.82 | Test loss : 0.47\n",
            "************************************************************\n",
            "\n",
            "\n",
            "Elapsed time for Training and validation is 0 mins and 45 seconds \n",
            "\n",
            "\n",
            "Elapsed time for Testing is 0 mins and 10 seconds \n",
            "\n",
            "************************************************************\n",
            "Epoch : 1\n",
            "************************************************************\n",
            "Train accuracy : 0.82 | Train loss : 0.45\n",
            "Validation accuracy : 0.86 | validation loss : 0.37\n",
            "Test accuracy : 0.87 | Test loss : 0.35\n",
            "************************************************************\n",
            "\n",
            "\n",
            "Elapsed time for Training and validation is 0 mins and 44 seconds \n",
            "\n",
            "\n",
            "Elapsed time for Testing is 0 mins and 10 seconds \n",
            "\n",
            "************************************************************\n",
            "Epoch : 2\n",
            "************************************************************\n",
            "Train accuracy : 0.86 | Train loss : 0.36\n",
            "Validation accuracy : 0.87 | validation loss : 0.34\n",
            "Test accuracy : 0.88 | Test loss : 0.33\n",
            "************************************************************\n",
            "\n",
            "\n",
            "Elapsed time for Training and validation is 0 mins and 45 seconds \n",
            "\n",
            "\n",
            "Elapsed time for Testing is 0 mins and 10 seconds \n",
            "\n",
            "************************************************************\n",
            "Epoch : 3\n",
            "************************************************************\n",
            "Train accuracy : 0.88 | Train loss : 0.32\n",
            "Validation accuracy : 0.88 | validation loss : 0.34\n",
            "Test accuracy : 0.88 | Test loss : 0.30\n",
            "************************************************************\n",
            "\n",
            "\n",
            "Elapsed time for Training and validation is 0 mins and 44 seconds \n",
            "\n",
            "\n",
            "Elapsed time for Testing is 0 mins and 10 seconds \n",
            "\n",
            "************************************************************\n",
            "Epoch : 4\n",
            "************************************************************\n",
            "Train accuracy : 0.90 | Train loss : 0.28\n",
            "Validation accuracy : 0.91 | validation loss : 0.25\n",
            "Test accuracy : 0.91 | Test loss : 0.24\n",
            "************************************************************\n",
            "\n",
            "\n",
            "Elapsed time for Training and validation is 0 mins and 45 seconds \n",
            "\n",
            "\n",
            "Elapsed time for Testing is 0 mins and 10 seconds \n",
            "\n",
            "************************************************************\n",
            "Epoch : 5\n",
            "************************************************************\n",
            "Train accuracy : 0.91 | Train loss : 0.25\n",
            "Validation accuracy : 0.91 | validation loss : 0.24\n",
            "Test accuracy : 0.92 | Test loss : 0.21\n",
            "************************************************************\n",
            "\n",
            "\n",
            "Elapsed time for Training and validation is 0 mins and 43 seconds \n",
            "\n",
            "\n",
            "Elapsed time for Testing is 0 mins and 10 seconds \n",
            "\n",
            "************************************************************\n",
            "Epoch : 6\n",
            "************************************************************\n",
            "Train accuracy : 0.92 | Train loss : 0.22\n",
            "Validation accuracy : 0.91 | validation loss : 0.25\n",
            "Test accuracy : 0.92 | Test loss : 0.23\n",
            "************************************************************\n",
            "\n",
            "\n",
            "Elapsed time for Training and validation is 0 mins and 44 seconds \n",
            "\n",
            "\n",
            "Elapsed time for Testing is 0 mins and 10 seconds \n",
            "\n",
            "************************************************************\n",
            "Epoch : 7\n",
            "************************************************************\n",
            "Train accuracy : 0.93 | Train loss : 0.19\n",
            "Validation accuracy : 0.92 | validation loss : 0.20\n",
            "Test accuracy : 0.92 | Test loss : 0.21\n",
            "************************************************************\n",
            "\n",
            "\n",
            "Elapsed time for Training and validation is 0 mins and 44 seconds \n",
            "\n",
            "\n",
            "Elapsed time for Testing is 0 mins and 10 seconds \n",
            "\n",
            "************************************************************\n",
            "Epoch : 8\n",
            "************************************************************\n",
            "Train accuracy : 0.94 | Train loss : 0.18\n",
            "Validation accuracy : 0.92 | validation loss : 0.25\n",
            "Test accuracy : 0.91 | Test loss : 0.24\n",
            "************************************************************\n",
            "\n",
            "\n",
            "Elapsed time for Training and validation is 0 mins and 44 seconds \n",
            "\n",
            "\n",
            "Elapsed time for Testing is 0 mins and 10 seconds \n",
            "\n",
            "************************************************************\n",
            "Epoch : 9\n",
            "************************************************************\n",
            "Train accuracy : 0.94 | Train loss : 0.15\n",
            "Validation accuracy : 0.93 | validation loss : 0.20\n",
            "Test accuracy : 0.92 | Test loss : 0.21\n",
            "************************************************************\n",
            "\n",
            "\n",
            "Elapsed time for Training and validation is 0 mins and 43 seconds \n",
            "\n",
            "\n",
            "Elapsed time for Testing is 0 mins and 10 seconds \n",
            "\n",
            "************************************************************\n",
            "Epoch : 10\n",
            "************************************************************\n",
            "Train accuracy : 0.95 | Train loss : 0.14\n",
            "Validation accuracy : 0.92 | validation loss : 0.22\n",
            "Test accuracy : 0.93 | Test loss : 0.21\n",
            "************************************************************\n",
            "\n",
            "\n",
            "Elapsed time for Training and validation is 0 mins and 44 seconds \n",
            "\n",
            "\n",
            "Elapsed time for Testing is 0 mins and 10 seconds \n",
            "\n",
            "************************************************************\n",
            "Epoch : 11\n",
            "************************************************************\n",
            "Train accuracy : 0.96 | Train loss : 0.13\n",
            "Validation accuracy : 0.93 | validation loss : 0.20\n",
            "Test accuracy : 0.93 | Test loss : 0.21\n",
            "************************************************************\n",
            "\n",
            "Total run time for all epochs is : 660.2088834010001 | specific : 11 minutes and 0.20888340100009373 seconds \n"
          ]
        }
      ]
    },
    {
      "cell_type": "code",
      "source": [
        "with open(vars_file_path,mode = \"a\") as fp:\n",
        "    fp.write(\"\\n\")\n",
        "    fp.write(f\"Modified model 4 (Dropouts)\\n\")\n",
        "    fp.write(f\"Training loss :{loss_train_list4}\\n\")\n",
        "    fp.write(f\"Validation loss :{loss_valid_list4}\\n\")\n",
        "    fp.write(f\"Testing loss :{loss_test_list4}\\n\")\n",
        "    fp.write(\"\\n\")\n",
        "    fp.write(f\"Training Accuracy :{acc_train_list4}\\n\")\n",
        "    fp.write(f\"Validation Accuracy :{acc_valid_list4}\\n\")\n",
        "    fp.write(f\"Testing Accuracy :{acc_test_list4}\\n\")\n",
        "    fp.write(\"\\n\")\n",
        "    fp.write(f\"Training Runtime :{run_time_train_lst4}\\n\")\n",
        "    fp.write(f\"Testing Runtime :{run_time_test_lst4}\\n\")\n",
        "    fp.write(f\"Total Runtime :{sum(run_time_lst4)}\\n\")\n",
        "\n",
        "\n",
        "    fp.write(\"\\n\")\n"
      ],
      "metadata": {
        "id": "o2yrAqMQOAlK"
      },
      "id": "o2yrAqMQOAlK",
      "execution_count": 61,
      "outputs": []
    },
    {
      "cell_type": "code",
      "source": [],
      "metadata": {
        "id": "AOjgL7xcYCHC"
      },
      "id": "AOjgL7xcYCHC",
      "execution_count": 61,
      "outputs": []
    },
    {
      "cell_type": "markdown",
      "source": [
        "# Improvized model 5 : Batch Normalization"
      ],
      "metadata": {
        "id": "NKFdd9EJYCt7"
      },
      "id": "NKFdd9EJYCt7"
    },
    {
      "cell_type": "code",
      "source": [
        "class AlexNet_BN(nn.Module):\n",
        "    def __init__(self, output_class = class_count):\n",
        "        super().__init__()\n",
        "        self.features = nn.Sequential(\n",
        "            nn.Conv2d(in_channels=3, out_channels=96,kernel_size=11,stride=4,padding=2,bias=False),\n",
        "            nn.BatchNorm2d(num_features=96),\n",
        "            nn.ReLU(inplace=True),\n",
        "            nn.MaxPool2d(kernel_size=3,stride=2,padding=0),\n",
        "\n",
        "            nn.Conv2d(in_channels=96, out_channels=192,kernel_size=5,stride=1,padding=2,bias=False),\n",
        "            nn.BatchNorm2d(num_features=192),\n",
        "            nn.ReLU(inplace=True),\n",
        "            nn.MaxPool2d(kernel_size=3,stride=2,padding=0),\n",
        "\n",
        "            nn.Conv2d(in_channels=192, out_channels=384,kernel_size=3,stride=1,padding=1,bias=False),\n",
        "            nn.BatchNorm2d(num_features=384),\n",
        "            nn.ReLU(inplace=True),\n",
        "\n",
        "            nn.Conv2d(in_channels=384, out_channels=256,kernel_size=3,stride=1,padding=1,bias=False),\n",
        "            nn.BatchNorm2d(num_features=256),\n",
        "            nn.ReLU(inplace=True),\n",
        "\n",
        "            nn.Conv2d(in_channels=256, out_channels=256,kernel_size=3,stride=1,padding=1,bias=False),\n",
        "            nn.BatchNorm2d(num_features=256),\n",
        "            nn.ReLU(inplace=True),\n",
        "            nn.MaxPool2d(kernel_size=3,stride=2,padding=0),\n",
        "        )\n",
        "\n",
        "        self.avgpool = nn.AdaptiveAvgPool2d((6, 6))\n",
        "        self.classifier = nn.Sequential(\n",
        "            nn.Dropout(),\n",
        "            nn.Linear(in_features=256*6*6,out_features=4096),\n",
        "            nn.BatchNorm1d(num_features=4096),\n",
        "            nn.ReLU(inplace=True),\n",
        "            nn.Dropout(),\n",
        "            nn.Linear(in_features=4096,out_features=4096),\n",
        "            nn.BatchNorm1d(num_features=4096),\n",
        "            nn.ReLU(inplace=True),\n",
        "            nn.Linear(in_features=4096,out_features=output_class),\n",
        "        )\n",
        "\n",
        "    def forward(self,x):\n",
        "        x = self.features(x)\n",
        "        x = self.avgpool(x)\n",
        "        x = x.view(x.size(0),256*6*6) \n",
        "        x = self.classifier(x)\n",
        "        return x\n",
        "\n",
        "model_alex_5 = AlexNet_BN(output_class=3).to(device)\n",
        "\n",
        "# optimizer = optim.Adam(model_alex.parameters(),lr=0.001)\n",
        "optimizer = optim.SGD(model_alex_5.parameters(), lr=0.01, momentum=0.9)\n",
        "criterion = nn.CrossEntropyLoss()\n",
        "\n",
        "# device = torch.device(\"cuda\" if torch.cuda.is_available() else \"cpu\")\n",
        "\n",
        "model_alex_5 = model_alex_5.to(device)\n",
        "\n",
        "\n",
        "num_epochs = 12\n",
        "loss_best = float(\"inf\")   # infinity\n",
        "run_time_train_lst5 = []\n",
        "run_time_test_lst5 = []\n",
        "loss_train_list5, loss_valid_list5, loss_test_list5 = [],[],[]\n",
        "acc_train_list5, acc_valid_list5, acc_test_list5 = [],[],[]\n",
        "\n",
        "\n",
        "for epoch in range(num_epochs):\n",
        "    start_time = time.monotonic()\n",
        "    \n",
        "    train_loss,train_acc = trainModel(model=model_alex_5,iterator=train_loader,optimizer=optimizer,criterion=criterion,device=device)\n",
        "    validation_loss,validation_acc = evaluateModel(model=model_alex_5,iterator=validation_loader,optimizer=None,criterion=criterion,device=device)\n",
        "    loss_train_list5.append(train_loss)\n",
        "    loss_valid_list5.append(validation_loss)\n",
        "    acc_train_list5.append(train_acc)\n",
        "    acc_valid_list5.append(validation_acc)\n",
        "\n",
        "\n",
        "    if validation_loss < loss_best :\n",
        "        loss_best = validation_loss\n",
        "        torch.save(model_alex_5.state_dict(),\"model_best_state_5.pt\")\n",
        "        \n",
        "    end_time = time.monotonic()\n",
        "    \n",
        "    run_time = time_stamps(st=start_time,et=end_time,name_tag = \"Training and validation\")\n",
        "    run_time_train_lst5.append(run_time)\n",
        "    \n",
        "    \n",
        "    start_time = time.monotonic()\n",
        "    \n",
        "    test_loss,test_acc = evaluateModel(model=model_alex_5,iterator=test_loader,optimizer=None,criterion=criterion,device=device)\n",
        "    loss_test_list5.append(test_loss)\n",
        "    acc_test_list5.append(test_acc)\n",
        "\n",
        "    end_time = time.monotonic()\n",
        "    run_time = time_stamps(st=start_time,et=end_time,name_tag = \"Testing\")\n",
        "    run_time_test_lst5.append(run_time)\n",
        "\n",
        "    print(\"*\"*60)\n",
        "    print(f\"Epoch : {epoch}\")\n",
        "    print(\"*\"*60)\n",
        "    print(f\"Train accuracy : {train_acc :.2f} | Train loss : {train_loss :.2f}\")\n",
        "    print(f\"Validation accuracy : {validation_acc:.2f} | validation loss : {validation_loss:.2f}\")\n",
        "    print(f\"Test accuracy : {test_acc :.2f} | Test loss : {test_loss :.2f}\")\n",
        "    print(\"*\"*60)\n",
        "    print()\n",
        "run_time_lst5 = run_time_train_lst5 + run_time_test_lst5\n",
        "print(f\"Total run time for all epochs is : {sum(run_time_lst5)} | specific : {int(sum(run_time_lst5)/60)} minutes and {sum(run_time_lst5) - int(sum(run_time_lst5)/60)*60} seconds \")"
      ],
      "metadata": {
        "id": "DxQHId-YYCKU",
        "colab": {
          "base_uri": "https://localhost:8080/"
        },
        "outputId": "86b31153-a885-4dd3-939e-f718fa6f0556"
      },
      "id": "DxQHId-YYCKU",
      "execution_count": 62,
      "outputs": [
        {
          "output_type": "stream",
          "name": "stdout",
          "text": [
            "\n",
            "Elapsed time for Training and validation is 0 mins and 45 seconds \n",
            "\n",
            "\n",
            "Elapsed time for Testing is 0 mins and 10 seconds \n",
            "\n",
            "************************************************************\n",
            "Epoch : 0\n",
            "************************************************************\n",
            "Train accuracy : 0.81 | Train loss : 0.53\n",
            "Validation accuracy : 0.86 | validation loss : 0.36\n",
            "Test accuracy : 0.86 | Test loss : 0.36\n",
            "************************************************************\n",
            "\n",
            "\n",
            "Elapsed time for Training and validation is 0 mins and 46 seconds \n",
            "\n",
            "\n",
            "Elapsed time for Testing is 0 mins and 10 seconds \n",
            "\n",
            "************************************************************\n",
            "Epoch : 1\n",
            "************************************************************\n",
            "Train accuracy : 0.87 | Train loss : 0.35\n",
            "Validation accuracy : 0.88 | validation loss : 0.32\n",
            "Test accuracy : 0.89 | Test loss : 0.30\n",
            "************************************************************\n",
            "\n",
            "\n",
            "Elapsed time for Training and validation is 0 mins and 46 seconds \n",
            "\n",
            "\n",
            "Elapsed time for Testing is 0 mins and 10 seconds \n",
            "\n",
            "************************************************************\n",
            "Epoch : 2\n",
            "************************************************************\n",
            "Train accuracy : 0.90 | Train loss : 0.28\n",
            "Validation accuracy : 0.90 | validation loss : 0.27\n",
            "Test accuracy : 0.89 | Test loss : 0.27\n",
            "************************************************************\n",
            "\n",
            "\n",
            "Elapsed time for Training and validation is 0 mins and 47 seconds \n",
            "\n",
            "\n",
            "Elapsed time for Testing is 0 mins and 10 seconds \n",
            "\n",
            "************************************************************\n",
            "Epoch : 3\n",
            "************************************************************\n",
            "Train accuracy : 0.91 | Train loss : 0.24\n",
            "Validation accuracy : 0.91 | validation loss : 0.25\n",
            "Test accuracy : 0.91 | Test loss : 0.24\n",
            "************************************************************\n",
            "\n",
            "\n",
            "Elapsed time for Training and validation is 0 mins and 44 seconds \n",
            "\n",
            "\n",
            "Elapsed time for Testing is 0 mins and 10 seconds \n",
            "\n",
            "************************************************************\n",
            "Epoch : 4\n",
            "************************************************************\n",
            "Train accuracy : 0.92 | Train loss : 0.22\n",
            "Validation accuracy : 0.94 | validation loss : 0.19\n",
            "Test accuracy : 0.93 | Test loss : 0.20\n",
            "************************************************************\n",
            "\n",
            "\n",
            "Elapsed time for Training and validation is 0 mins and 45 seconds \n",
            "\n",
            "\n",
            "Elapsed time for Testing is 0 mins and 10 seconds \n",
            "\n",
            "************************************************************\n",
            "Epoch : 5\n",
            "************************************************************\n",
            "Train accuracy : 0.93 | Train loss : 0.19\n",
            "Validation accuracy : 0.92 | validation loss : 0.22\n",
            "Test accuracy : 0.92 | Test loss : 0.21\n",
            "************************************************************\n",
            "\n",
            "\n",
            "Elapsed time for Training and validation is 0 mins and 45 seconds \n",
            "\n",
            "\n",
            "Elapsed time for Testing is 0 mins and 10 seconds \n",
            "\n",
            "************************************************************\n",
            "Epoch : 6\n",
            "************************************************************\n",
            "Train accuracy : 0.94 | Train loss : 0.17\n",
            "Validation accuracy : 0.91 | validation loss : 0.23\n",
            "Test accuracy : 0.92 | Test loss : 0.22\n",
            "************************************************************\n",
            "\n",
            "\n",
            "Elapsed time for Training and validation is 0 mins and 45 seconds \n",
            "\n",
            "\n",
            "Elapsed time for Testing is 0 mins and 10 seconds \n",
            "\n",
            "************************************************************\n",
            "Epoch : 7\n",
            "************************************************************\n",
            "Train accuracy : 0.94 | Train loss : 0.16\n",
            "Validation accuracy : 0.93 | validation loss : 0.17\n",
            "Test accuracy : 0.93 | Test loss : 0.19\n",
            "************************************************************\n",
            "\n",
            "\n",
            "Elapsed time for Training and validation is 0 mins and 44 seconds \n",
            "\n",
            "\n",
            "Elapsed time for Testing is 0 mins and 10 seconds \n",
            "\n",
            "************************************************************\n",
            "Epoch : 8\n",
            "************************************************************\n",
            "Train accuracy : 0.95 | Train loss : 0.14\n",
            "Validation accuracy : 0.93 | validation loss : 0.18\n",
            "Test accuracy : 0.94 | Test loss : 0.17\n",
            "************************************************************\n",
            "\n",
            "\n",
            "Elapsed time for Training and validation is 0 mins and 44 seconds \n",
            "\n",
            "\n",
            "Elapsed time for Testing is 0 mins and 10 seconds \n",
            "\n",
            "************************************************************\n",
            "Epoch : 9\n",
            "************************************************************\n",
            "Train accuracy : 0.95 | Train loss : 0.13\n",
            "Validation accuracy : 0.93 | validation loss : 0.20\n",
            "Test accuracy : 0.94 | Test loss : 0.20\n",
            "************************************************************\n",
            "\n",
            "\n",
            "Elapsed time for Training and validation is 0 mins and 46 seconds \n",
            "\n",
            "\n",
            "Elapsed time for Testing is 0 mins and 10 seconds \n",
            "\n",
            "************************************************************\n",
            "Epoch : 10\n",
            "************************************************************\n",
            "Train accuracy : 0.95 | Train loss : 0.12\n",
            "Validation accuracy : 0.93 | validation loss : 0.19\n",
            "Test accuracy : 0.94 | Test loss : 0.18\n",
            "************************************************************\n",
            "\n",
            "\n",
            "Elapsed time for Training and validation is 0 mins and 45 seconds \n",
            "\n",
            "\n",
            "Elapsed time for Testing is 0 mins and 10 seconds \n",
            "\n",
            "************************************************************\n",
            "Epoch : 11\n",
            "************************************************************\n",
            "Train accuracy : 0.96 | Train loss : 0.11\n",
            "Validation accuracy : 0.93 | validation loss : 0.18\n",
            "Test accuracy : 0.94 | Test loss : 0.18\n",
            "************************************************************\n",
            "\n",
            "Total run time for all epochs is : 675.981643213001 | specific : 11 minutes and 15.981643213001007 seconds \n"
          ]
        }
      ]
    },
    {
      "cell_type": "code",
      "source": [
        "with open(vars_file_path,mode = \"a\") as fp:\n",
        "    fp.write(\"\\n\")\n",
        "    fp.write(f\"Modified model 5 (Batch Normalization)\\n\")\n",
        "    fp.write(f\"Training loss :{loss_train_list5}\\n\")\n",
        "    fp.write(f\"Validation loss :{loss_valid_list5}\\n\")\n",
        "    fp.write(f\"Testing loss :{loss_test_list5}\\n\")\n",
        "    fp.write(\"\\n\")\n",
        "    fp.write(f\"Training Accuracy :{acc_train_list5}\\n\")\n",
        "    fp.write(f\"Validation Accuracy :{acc_valid_list5}\\n\")\n",
        "    fp.write(f\"Testing Accuracy :{acc_test_list5}\\n\")\n",
        "    fp.write(\"\\n\")\n",
        "    fp.write(f\"Training Runtime :{run_time_train_lst5}\\n\")\n",
        "    fp.write(f\"Testing Runtime :{run_time_test_lst5}\\n\")\n",
        "    fp.write(f\"Total Runtime :{sum(run_time_lst5)}\\n\")\n",
        "\n",
        "\n",
        "    fp.write(\"\\n\")\n"
      ],
      "metadata": {
        "id": "FGdeurwKYCNn"
      },
      "id": "FGdeurwKYCNn",
      "execution_count": 63,
      "outputs": []
    },
    {
      "cell_type": "code",
      "source": [
        "print(acc_test_list)\n",
        "print(acc_test_list1)\n",
        "print(acc_test_list2)\n",
        "print(acc_test_list3)\n",
        "print(acc_test_list4)\n",
        "print(acc_test_list5)\n",
        "print(acc_train_list)\n",
        "print(acc_train_list1)\n",
        "print(acc_train_list2)\n",
        "print(acc_train_list3)\n",
        "print(acc_train_list4)\n",
        "print(acc_train_list5)\n",
        "print(acc_valid_list)\n",
        "print(acc_valid_list1)\n",
        "print(acc_valid_list2)\n",
        "print(acc_valid_list3)\n",
        "print(acc_valid_list4)\n",
        "print(acc_valid_list5)"
      ],
      "metadata": {
        "id": "O-pNEJiagofG",
        "colab": {
          "base_uri": "https://localhost:8080/"
        },
        "outputId": "4431136a-8d3c-497b-ec80-f84684cf0457"
      },
      "id": "O-pNEJiagofG",
      "execution_count": 65,
      "outputs": [
        {
          "output_type": "stream",
          "name": "stdout",
          "text": [
            "[0.8051307626227115, 0.8631981382978723, 0.8656360817716476, 0.9013741136865413, 0.8849179966652647, 0.9084109042553191, 0.9207114361702128, 0.9072473404255319, 0.9327903370907966, 0.919991134963137, 0.9174977838993073, 0.9337876775163285]\n",
            "[0.808843085106383, 0.8656914893617021, 0.8854166668780307, 0.8935616136865413, 0.9023160465220188, 0.9002659574468085, 0.9189937945376051, 0.9065824468085106, 0.922373670212766, 0.9269725179418604, 0.9179964541120732, 0.9260859933305294]\n",
            "[0.812998670212766, 0.8585992912028698, 0.8785460997135082, 0.8768284574468085, 0.9028147167347848, 0.8979942380113805, 0.9311835106382979, 0.919603280564572]\n",
            "[0.810117464750371, 0.8610926422666996, 0.8398714541120732, 0.8879654255319149, 0.8996010638297872, 0.8949468085106383, 0.9122894507773379, 0.9173869680851063, 0.9201019507773379, 0.9154476954581889, 0.9001551422666996, 0.9219304082241464]\n",
            "[0.8243572699262741, 0.865303634963137, 0.8792109933305294, 0.8838098404255319, 0.9124002659574468, 0.9203235817716476, 0.9178302307078179, 0.9238696808510638, 0.9122894507773379, 0.9224844860269669, 0.9276928191489362, 0.9303523936170213]\n",
            "[0.8575465425531915, 0.8902925531914894, 0.894780585106383, 0.9082446808510638, 0.9277482273730826, 0.9197140957446809, 0.9160571808510638, 0.9335106382978723, 0.9382203018411677, 0.9355607273730826, 0.9376662234042553, 0.9424312945376051]\n",
            "[0.6827847633136095, 0.844582100591716, 0.8711168639053254, 0.8890994822485208, 0.9030140532544378, 0.9144323224852071, 0.9241401627218935, 0.9323224852071006, 0.9369452662721893, 0.9400425295857988, 0.9493343195266272, 0.9567307692307693]\n",
            "[0.667760724852071, 0.8319156804733728, 0.8677422337278107, 0.889792899408284, 0.9011187130177515, 0.9109190088757396, 0.9200721153846154, 0.9297799556213018, 0.9364367603550295, 0.9429548816568047, 0.9449426775147929, 0.9513683431952663]\n",
            "[0.6741401627218935, 0.8370469674556213, 0.8796227810650887, 0.8910872781065089, 0.902135724852071, 0.9168361686390533, 0.921042899408284, 0.9322762573964497, 0.9351423816568047]\n",
            "[0.6513498520710059, 0.8331176035502958, 0.8615014792899408, 0.8717640532544378, 0.8863258136094675, 0.8962647928994083, 0.907867973372781, 0.9109652366863905, 0.9215976331360947, 0.9204419378698225, 0.9261741863905325, 0.9344951923076923]\n",
            "[0.6527829142011834, 0.8244730029585798, 0.8646911982248521, 0.8821190828402367, 0.8970506656804734, 0.9085151627218935, 0.9192862426035503, 0.9296875, 0.9365754437869822, 0.9426775147928994, 0.9496579142011834, 0.9556213017751479]\n",
            "[0.812083949704142, 0.8749537721893491, 0.8979289940828402, 0.9105954142011834, 0.9197022928994083, 0.9303346893491125, 0.9351423816568047, 0.9425388313609467, 0.9473927514792899, 0.9522004437869822, 0.953125, 0.959689349112426]\n",
            "[0.8087993421052632, 0.8696546052631579, 0.8721217105263158, 0.8988486842105263, 0.8778782894736842, 0.9029605263157895, 0.9185855263157895, 0.9099506578947368, 0.9255756578947368, 0.9140625, 0.9222861842105263, 0.9222861842105263]\n",
            "[0.8166118421052632, 0.865953947368421, 0.8836348684210527, 0.889391447368421, 0.899671052631579, 0.8926809210526315, 0.9157072368421053, 0.905016447368421, 0.9288651315789473, 0.9189967105263158, 0.9136513157894737, 0.9214638157894737]\n",
            "[0.7997532894736842, 0.873766447368421, 0.8856907894736842, 0.8671875, 0.8988486842105263, 0.8889802631578947, 0.9321546052631579, 0.920641447368421, 0.9198190789473685]\n",
            "[0.8087993421052632, 0.8675986842105263, 0.8634868421052632, 0.890625, 0.899671052631579, 0.8935032894736842, 0.907483552631579, 0.9194078947368421, 0.9169407894736842, 0.9132401315789473, 0.899671052631579, 0.9255756578947368]\n",
            "[0.8203125, 0.8634868421052632, 0.8688322368421053, 0.8807565789473685, 0.907483552631579, 0.907483552631579, 0.9140625, 0.9247532894736842, 0.9165296052631579, 0.9251644736842105, 0.9189967105263158, 0.930921052631579]\n",
            "[0.8577302631578947, 0.8824013157894737, 0.9000822368421053, 0.905016447368421, 0.9358552631578947, 0.9222861842105263, 0.912828947368421, 0.9292763157894737, 0.9305098684210527, 0.9346217105263158, 0.9300986842105263, 0.9342105263157895]\n"
          ]
        }
      ]
    },
    {
      "cell_type": "code",
      "source": [
        "acc_test_list2_md = acc_test_list2 + [None,None,None,None]"
      ],
      "metadata": {
        "id": "0nrDlrxsw_Zl"
      },
      "id": "0nrDlrxsw_Zl",
      "execution_count": 80,
      "outputs": []
    },
    {
      "cell_type": "code",
      "source": [
        "x_axis = range(num_epochs)\n",
        "plt.ylabel(\"Test Accuracies\")\n",
        "plt.xlabel = \"Number of Epochs\"\n",
        "plt.title(\"Test Accuracies of Different Models\")\n",
        "plt.plot(x_axis,acc_test_list,color=\"b\",label=\"Base Model\")\n",
        "plt.plot(x_axis,acc_test_list1,color=\"r\",label=\"Weights Initiallizer\")\n",
        "plt.plot(x_axis,acc_test_list2_md,color=\"y\",label=\"Early stopping\")\n",
        "plt.plot(x_axis,acc_test_list3,color=\"k\",label=\"Gradient Clipping\")\n",
        "plt.plot(x_axis,acc_test_list4,color=\"c\",label=\"Dropouts\")\n",
        "plt.plot(x_axis,acc_test_list5,color=\"m\",label=\"Batch Normalization\")\n",
        "plt.legend(loc='best', bbox_to_anchor=(0.5, 0., 0.5, 0.5))\n",
        "plt.show()"
      ],
      "metadata": {
        "colab": {
          "base_uri": "https://localhost:8080/",
          "height": 452
        },
        "id": "CaQOSMQ5w_fM",
        "outputId": "64f067e5-74f6-4bbe-cbba-d56680b91a39"
      },
      "id": "CaQOSMQ5w_fM",
      "execution_count": 86,
      "outputs": [
        {
          "output_type": "display_data",
          "data": {
            "text/plain": [
              "<Figure size 640x480 with 1 Axes>"
            ],
            "image/png": "[encoded data removed]"
          },
          "metadata": {}
        }
      ]
    },
    {
      "cell_type": "code",
      "source": [
        "acc_train_list2_md = acc_train_list2 + [None,None,None,None]"
      ],
      "metadata": {
        "id": "0kNmf9Sr0Eny"
      },
      "id": "0kNmf9Sr0Eny",
      "execution_count": 87,
      "outputs": []
    },
    {
      "cell_type": "code",
      "source": [
        "acc_train_list2_md.pop()"
      ],
      "metadata": {
        "id": "fEnSRzVb5HlN"
      },
      "id": "fEnSRzVb5HlN",
      "execution_count": 90,
      "outputs": []
    },
    {
      "cell_type": "code",
      "source": [
        "len(acc_train_list2_md)"
      ],
      "metadata": {
        "colab": {
          "base_uri": "https://localhost:8080/"
        },
        "id": "wUvAOEmz5C7V",
        "outputId": "d0c7210b-1d31-4109-a97f-64e397e3e109"
      },
      "id": "wUvAOEmz5C7V",
      "execution_count": 91,
      "outputs": [
        {
          "output_type": "execute_result",
          "data": {
            "text/plain": [
              "12"
            ]
          },
          "metadata": {},
          "execution_count": 91
        }
      ]
    },
    {
      "cell_type": "code",
      "source": [
        "x_axis = range(num_epochs)\n",
        "plt.ylabel(\"Train Accuracies\")\n",
        "plt.xlabel = \"Number of Epochs\"\n",
        "plt.title(\"Train Accuracies of Different Models\")\n",
        "plt.plot(x_axis,acc_train_list,color=\"b\",label=\"Base Model\")\n",
        "plt.plot(x_axis,acc_train_list1,color=\"r\",label=\"Weights Initiallizer\")\n",
        "plt.plot(x_axis,acc_train_list2_md,color=\"y\",label=\"Early stopping\")\n",
        "plt.plot(x_axis,acc_train_list3,color=\"k\",label=\"Gradient Clipping\")\n",
        "plt.plot(x_axis,acc_train_list4,color=\"c\",label=\"Dropouts\")\n",
        "plt.plot(x_axis,acc_train_list5,color=\"m\",label=\"Batch Normalization\")\n",
        "plt.legend(loc='best', bbox_to_anchor=(0.5, 0., 0.5, 0.5))\n",
        "plt.show()"
      ],
      "metadata": {
        "colab": {
          "base_uri": "https://localhost:8080/",
          "height": 452
        },
        "id": "Bs4Hxbxfw_st",
        "outputId": "7bef9bac-da5c-46fa-8d4d-d9d6558145af"
      },
      "id": "Bs4Hxbxfw_st",
      "execution_count": 92,
      "outputs": [
        {
          "output_type": "display_data",
          "data": {
            "text/plain": [
              "<Figure size 640x480 with 1 Axes>"
            ],
            "image/png": "[encoded data removed]"
          },
          "metadata": {}
        }
      ]
    },
    {
      "cell_type": "code",
      "source": [
        "print(len(loss_valid_list2))\n",
        "loss_valid_list2_md = loss_valid_list2 +[None,None,None]"
      ],
      "metadata": {
        "colab": {
          "base_uri": "https://localhost:8080/"
        },
        "id": "RdtND5Yl0ETi",
        "outputId": "a9a1636e-1e97-41b5-b1e6-94cc95538a5c"
      },
      "id": "RdtND5Yl0ETi",
      "execution_count": 94,
      "outputs": [
        {
          "output_type": "stream",
          "name": "stdout",
          "text": [
            "9\n"
          ]
        }
      ]
    },
    {
      "cell_type": "code",
      "source": [
        "x_axis = range(num_epochs)\n",
        "plt.ylabel(\"validation loss\")\n",
        "plt.xlabel = \"Number of Epochs\"\n",
        "plt.title(\"validation loss of Different Models\")\n",
        "plt.plot(x_axis,loss_valid_list,color=\"b\",label=\"Base Model\")\n",
        "plt.plot(x_axis,loss_valid_list1,color=\"r\",label=\"Weights Initiallizer\")\n",
        "plt.plot(x_axis,loss_valid_list2_md,color=\"y\",label=\"Early stopping\")\n",
        "plt.plot(x_axis,loss_valid_list3,color=\"k\",label=\"Gradient Clipping\")\n",
        "plt.plot(x_axis,loss_valid_list4,color=\"c\",label=\"Dropouts\")\n",
        "plt.plot(x_axis,loss_valid_list5,color=\"m\",label=\"Batch Normalization\")\n",
        "plt.legend(loc='best', bbox_to_anchor=(1, 0., 0.5, 0.5))\n",
        "plt.show()"
      ],
      "metadata": {
        "colab": {
          "base_uri": "https://localhost:8080/",
          "height": 452
        },
        "id": "vguLzBCk0dLw",
        "outputId": "bd6d5a77-c475-4a70-c0b4-242d2f944652"
      },
      "id": "vguLzBCk0dLw",
      "execution_count": 101,
      "outputs": [
        {
          "output_type": "display_data",
          "data": {
            "text/plain": [
              "<Figure size 640x480 with 1 Axes>"
            ],
            "image/png": "[encoded data removed]"
          },
          "metadata": {}
        }
      ]
    },
    {
      "cell_type": "code",
      "source": [],
      "metadata": {
        "id": "Ru89Ti5j0dOS"
      },
      "id": "Ru89Ti5j0dOS",
      "execution_count": null,
      "outputs": []
    },
    {
      "cell_type": "code",
      "source": [
        "x_axis = [\"Base Model\",\"Weights Initiallizer\",\"Early stopping\",\"Gradient Clipping\",\"Dropouts\",\"Batch Normalization\"]\n",
        "plt.ylabel(\"Run Time in seconds\")\n",
        "plt.xlabel = \"Models\"\n",
        "plt.title(\"Run Time of Different Models\")\n",
        "total_run_time_list = [sum(run_time_lst),sum(run_time_lst1),sum(run_time_lst2),sum(run_time_lst3),sum(run_time_lst4),sum(run_time_lst5)]\n",
        "plt.bar(x_axis, total_run_time_list,label=\"Total Run Time\",color=\"c\")\n",
        "train_run_time_list = [sum(run_time_train_lst),sum(run_time_train_lst1),sum(run_time_train_lst2),sum(run_time_train_lst3),sum(run_time_train_lst4),sum(run_time_train_lst5)]\n",
        "test_run_time_list = [sum(run_time_test_lst),sum(run_time_test_lst1),sum(run_time_test_lst2),sum(run_time_test_lst3),sum(run_time_test_lst4),sum(run_time_test_lst5)]\n",
        "plt.bar(x_axis, train_run_time_list,label=\"Train Run Time\",color=\"g\")\n",
        "plt.bar(x_axis, test_run_time_list,label=\"Test Run Time\",color='b')\n",
        "\n",
        "plt.xticks(rotation=45)\n",
        "plt.legend(loc='best', bbox_to_anchor=(1, 0., 0.5, 0.5))\n",
        "plt.show()"
      ],
      "metadata": {
        "colab": {
          "base_uri": "https://localhost:8080/",
          "height": 548
        },
        "id": "gn6W4X3G1DQ-",
        "outputId": "e64b3c2b-ae92-47a0-9750-e12c83e674b1"
      },
      "id": "gn6W4X3G1DQ-",
      "execution_count": 112,
      "outputs": [
        {
          "output_type": "display_data",
          "data": {
            "text/plain": [
              "<Figure size 640x480 with 1 Axes>"
            ],
            "image/png": "[encoded data removed]"
          },
          "metadata": {}
        }
      ]
    },
    {
      "cell_type": "code",
      "source": [],
      "metadata": {
        "id": "9VeNpHfh1DW9"
      },
      "id": "9VeNpHfh1DW9",
      "execution_count": null,
      "outputs": []
    },
    {
      "cell_type": "code",
      "source": [
        "import numpy as np"
      ],
      "metadata": {
        "id": "W7ROjTuW6gww"
      },
      "id": "W7ROjTuW6gww",
      "execution_count": 113,
      "outputs": []
    },
    {
      "cell_type": "code",
      "source": [
        "x_axis = [\"Base Model\",\"Weights Initiallizer\",\"Early stopping\",\"Gradient Clipping\",\"Dropouts\",\"Batch Normalization\"]\n",
        "plt.ylabel(\"Accuracies\")\n",
        "plt.xlabel = \"Models\"\n",
        "plt.title(\"Train Accuracies of Different Models\")\n",
        "best_train_accuracies_list = [max(acc_train_list),max(acc_train_list1),max(acc_train_list2),max(acc_train_list3),max(acc_train_list4),max(acc_train_list5)]\n",
        "plt.bar(x_axis, best_train_accuracies_list ,label=\"Best Train Accuracy\",color=\"y\")\n",
        "\n",
        "avg_train_accuracies_list = [np.mean(acc_train_list),np.mean(acc_train_list1),np.mean(acc_train_list2),np.mean(acc_train_list3),np.mean(acc_train_list4),np.mean(acc_train_list5)]\n",
        "plt.bar(x_axis, avg_train_accuracies_list ,label=\"Avg Train Accuracy\",color=\"g\")\n",
        "\n",
        "\n",
        "\n",
        "\n",
        "plt.xticks(rotation=45)\n",
        "plt.legend(loc='best', bbox_to_anchor=(1, 0., 0.5, 0.5))\n",
        "plt.show()"
      ],
      "metadata": {
        "colab": {
          "base_uri": "https://localhost:8080/",
          "height": 548
        },
        "id": "o_PDMyt36g_n",
        "outputId": "fa728858-f4d5-4af5-a809-950c8a216d4d"
      },
      "id": "o_PDMyt36g_n",
      "execution_count": 121,
      "outputs": [
        {
          "output_type": "display_data",
          "data": {
            "text/plain": [
              "<Figure size 640x480 with 1 Axes>"
            ],
            "image/png": "[encoded data removed]"
          },
          "metadata": {}
        }
      ]
    },
    {
      "cell_type": "code",
      "source": [
        "x_axis = [\"Base Model\",\"Weights Initiallizer\",\"Early stopping\",\"Gradient Clipping\",\"Dropouts\",\"Batch Normalization\"]\n",
        "plt.ylabel(\"Accuracies\")\n",
        "plt.xlabel = \"Models\"\n",
        "plt.title(\"Test Accuracies of Different Models\")\n",
        "\n",
        "best_test_accuracies_list = [max(acc_test_list),max(acc_test_list1),max(acc_test_list2),max(acc_test_list3),max(acc_test_list4),max(acc_test_list5)]\n",
        "plt.bar(x_axis, best_test_accuracies_list ,label=\"Best Test Accuracy\",color=\"y\")\n",
        "\n",
        "avg_test_accuracies_list = [np.mean(acc_test_list),np.mean(acc_test_list1),np.mean(acc_test_list2),np.mean(acc_test_list3),np.mean(acc_test_list4),np.mean(acc_test_list5)]\n",
        "plt.bar(x_axis, avg_test_accuracies_list ,label=\"Avg Test Accuracy\",color=\"c\")\n",
        "\n",
        "plt.xticks(rotation=45)\n",
        "plt.legend(loc='best', bbox_to_anchor=(1, 0., 0.5, 0.5))\n",
        "plt.show()"
      ],
      "metadata": {
        "colab": {
          "base_uri": "https://localhost:8080/",
          "height": 548
        },
        "id": "qDm9AIPG6jNp",
        "outputId": "75df3a74-6dbf-4b42-9bed-a60eb12c019e"
      },
      "id": "qDm9AIPG6jNp",
      "execution_count": 125,
      "outputs": [
        {
          "output_type": "display_data",
          "data": {
            "text/plain": [
              "<Figure size 640x480 with 1 Axes>"
            ],
            "image/png": "[encoded data removed]"
          },
          "metadata": {}
        }
      ]
    },
    {
      "cell_type": "code",
      "source": [],
      "metadata": {
        "id": "0X7kyoDM0EWc"
      },
      "id": "0X7kyoDM0EWc",
      "execution_count": null,
      "outputs": []
    },
    {
      "cell_type": "markdown",
      "id": "294ef21a",
      "metadata": {
        "id": "294ef21a"
      },
      "source": [
        "# Documentation -- References \n",
        "\n",
        "https://stackoverflow.com/questions/58151507/why-pytorch-officially-use-mean-0-485-0-456-0-406-and-std-0-229-0-224-0-2\n",
        "https://www.analyticsvidhya.com/blog/2021/05/how-to-use-progress-bars-in-python/\n",
        "\n",
        "https://towardsdatascience.com/understand-kaiming-initialization-and-implementation-detail-in-pytorch-f7aa967e9138\n",
        "\n",
        "https://www.youtube.com/watch?v=YA1OdkiHJBY\n",
        " \n",
        "https://www.youtube.com/watch?v=7Fboe7_aTtY"
      ]
    },
    {
      "cell_type": "code",
      "execution_count": null,
      "id": "130c3a78",
      "metadata": {
        "id": "130c3a78"
      },
      "outputs": [],
      "source": []
    }
  ],
  "metadata": {
    "kernelspec": {
      "display_name": "Python 3",
      "name": "python3"
    },
    "language_info": {
      "name": "python"
    },
    "colab": {
      "provenance": [],
      "machine_shape": "hm",
      "gpuType": "A100"
    },
    "accelerator": "GPU",
    "gpuClass": "standard"
  },
  "nbformat": 4,
  "nbformat_minor": 5
}
