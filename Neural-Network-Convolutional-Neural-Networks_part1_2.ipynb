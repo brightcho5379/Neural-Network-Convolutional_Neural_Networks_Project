{
 "cells": [
  {
   "cell_type": "code",
   "execution_count": 26,
   "metadata": {},
   "outputs": [],
   "source": [
    "import os\n",
    "import pandas as pd\n",
    "import torch\n",
    "import torch.nn as nn\n",
    "import torch.optim as optim\n",
    "from torch.utils.data import DataLoader, TensorDataset, random_split\n",
    "from sklearn.preprocessing import StandardScaler\n",
    "from sklearn.model_selection import train_test_split\n",
    "\n",
    "# Load dataset\n",
    "df = pd.read_csv('dataset.csv')\n",
    "df = df[~df.applymap(lambda x: isinstance(x, str) and x.isalpha()).any(axis=1)]\n",
    "cols_to_change = ['f1', 'f2', 'f3', 'f4', 'f5', 'f6', 'f7', 'target']\n",
    "df[cols_to_change] = df[cols_to_change].astype(float)\n",
    "X = df.drop('target', axis=1)\n",
    "y = df['target']\n",
    "# Scale numerical features using StandardScaler\n",
    "scaler = StandardScaler()\n",
    "X = scaler.fit_transform(X)\n"
   ]
  },
  {
   "cell_type": "code",
   "execution_count": 27,
   "metadata": {},
   "outputs": [],
   "source": [
    "import torch.nn as nn\n",
    "\n",
    "# Define the model\n",
    "class SimpleBinaryClassifier(nn.Module):\n",
    "    def __init__(self):\n",
    "        super(SimpleBinaryClassifier, self).__init__()\n",
    "        self.layers = nn.ModuleList([\n",
    "            nn.Linear(7, 128),\n",
    "            nn.ReLU(),\n",
    "            nn.Linear(128, 128),\n",
    "            nn.ReLU(),\n",
    "            nn.Linear(128, 64),\n",
    "            nn.ReLU(),\n",
    "            nn.Linear(64, 1),\n",
    "            nn.Sigmoid()\n",
    "        ])\n",
    "        \n",
    "    def forward(self, x):\n",
    "        for layer in self.layers:\n",
    "            x = layer(x)\n",
    "        return x\n"
   ]
  },
  {
   "cell_type": "code",
   "execution_count": 28,
   "metadata": {},
   "outputs": [],
   "source": [
    "import torch.optim as optim\n",
    "from torch.utils.data import DataLoader, TensorDataset\n",
    "\n",
    "\n",
    "# Convert numpy arrays to PyTorch tensors\n",
    "X_tensor = torch.tensor(X, dtype=torch.float32)\n",
    "y_tensor = torch.tensor(y.values, dtype=torch.float32)\n",
    "\n",
    "# Split dataset into train and test sets\n",
    "dataset = TensorDataset(X_tensor, y_tensor)\n",
    "train_dataset, test_dataset = random_split(dataset, [int(0.8*len(dataset)), len(dataset)-int(0.8*len(dataset))])\n",
    "\n",
    "# Create data loaders\n",
    "batch_size = 32\n",
    "train_loader = DataLoader(train_dataset, batch_size=batch_size, shuffle=True)\n",
    "test_loader = DataLoader(test_dataset, batch_size=batch_size, shuffle=False)\n",
    "\n",
    "# Define loss function and optimizer\n",
    "device = torch.device('cuda' if torch.cuda.is_available() else 'cpu')\n",
    "model = SimpleBinaryClassifier().to(device)\n",
    "criterion = nn.BCELoss()\n",
    "optimizer = optim.SGD(model.parameters(), lr=0.01)"
   ]
  },
  {
   "cell_type": "code",
   "execution_count": 29,
   "metadata": {},
   "outputs": [
    {
     "name": "stdout",
     "output_type": "stream",
     "text": [
      "Final Test Accuracy: 0.7500\n"
     ]
    }
   ],
   "source": [
    "n_epochs = 50\n",
    "for epoch in range(n_epochs):\n",
    "    # Training\n",
    "    train_loss = 0.0\n",
    "    train_acc = 0.0\n",
    "    model.train()\n",
    "    for data, target in train_loader:\n",
    "        optimizer.zero_grad()\n",
    "        data, target = data.to(device), target.to(device)\n",
    "        output = model(data)\n",
    "        loss = criterion(output, target.view(-1,1))\n",
    "        loss.backward()\n",
    "        optimizer.step()\n",
    "        train_loss += loss.item() * data.size(0)\n",
    "        pred = torch.round(output)\n",
    "        train_acc += torch.sum(pred == target.view(-1,1)).item()\n",
    "    train_loss = train_loss / len(train_loader.dataset)\n",
    "    train_acc = train_acc / len(train_loader.dataset)\n",
    "\n",
    "    # Testing\n",
    "    test_loss = 0.0\n",
    "    test_acc = 0.0\n",
    "    model.eval()\n",
    "    with torch.no_grad():\n",
    "        for data, target in test_loader:\n",
    "            data, target = data.to(device), target.to(device)\n",
    "            output = model(data)\n",
    "            loss = criterion(output, target.view(-1,1))\n",
    "            test_loss += loss.item() * data.size(0)\n",
    "            pred = torch.round(output)\n",
    "            test_acc += torch.sum(pred == target.view(-1,1)).item()\n",
    "            \n",
    "    test_loss = test_loss / len(test_loader.dataset)\n",
    "    test_acc = test_acc / len(test_loader.dataset)\n",
    "    # Print results for each epoch\n",
    "    # print(f'Epoch {epoch+1}/{n_epochs}: Train Loss: {train_loss:.4f}, Train Acc: {train_acc:.4f}, Test Loss: {test_loss:.4f}, Test Acc: {test_acc:.4f}')\n",
    "print(f'Final Test Accuracy: {test_acc:.4f}')"
   ]
  },
  {
   "cell_type": "code",
   "execution_count": 21,
   "metadata": {},
   "outputs": [],
   "source": [
    "import torch.nn as nn\n",
    "\n",
    "# Define the model\n",
    "class SimpleBinaryClassifierWithDropout(nn.Module):\n",
    "    def __init__(self, dropout):\n",
    "        super(SimpleBinaryClassifierWithDropout, self).__init__()\n",
    "        self.layers = nn.ModuleList([\n",
    "            nn.Linear(7, 128),\n",
    "            nn.Dropout(dropout),\n",
    "            nn.ReLU(),\n",
    "            nn.Linear(128, 128),\n",
    "            nn.Dropout(dropout),\n",
    "            nn.ReLU(),\n",
    "            nn.Linear(128, 64),\n",
    "            nn.Dropout(dropout),\n",
    "            nn.ReLU(),\n",
    "            nn.Linear(64, 1),\n",
    "            nn.Sigmoid()\n",
    "        ])\n",
    "        \n",
    "    def forward(self, x):\n",
    "        for layer in self.layers:\n",
    "            x = layer(x)\n",
    "        return x"
   ]
  },
  {
   "cell_type": "code",
   "execution_count": 25,
   "metadata": {},
   "outputs": [
    {
     "name": "stdout",
     "output_type": "stream",
     "text": [
      "Dropout rate: 0.7, Final Test Accuracy: 0.5066\n"
     ]
    }
   ],
   "source": [
    "# Define loss function and optimizer\n",
    "device = torch.device('cuda' if torch.cuda.is_available() else 'cpu')\n",
    "criterion = nn.BCELoss()\n",
    "optimizer = optim.SGD(model.parameters(), lr=0.01)\n",
    "dropout_rate = [0.1,0.3,0.5,0.7]\n",
    "\n",
    "for dropout in dropout_rate:\n",
    "    model = SimpleBinaryClassifierWithDropout(dropout).to(device)\n",
    "    n_epochs = 50\n",
    "    for epoch in range(n_epochs):\n",
    "        # Training\n",
    "        train_loss = 0.0\n",
    "        train_acc = 0.0\n",
    "        model.train()\n",
    "        for data, target in train_loader:\n",
    "            optimizer.zero_grad()\n",
    "            data, target = data.to(device), target.to(device)\n",
    "            output = model(data)\n",
    "            loss = criterion(output, target.view(-1,1))\n",
    "            loss.backward()\n",
    "            optimizer.step()\n",
    "            train_loss += loss.item() * data.size(0)\n",
    "            pred = torch.round(output)\n",
    "            train_acc += torch.sum(pred == target.view(-1,1)).item()\n",
    "        train_loss = train_loss / len(train_loader.dataset)\n",
    "        train_acc = train_acc / len(train_loader.dataset)\n",
    "\n",
    "        # Testing\n",
    "        test_loss = 0.0\n",
    "        test_acc = 0.0\n",
    "        model.eval()\n",
    "        with torch.no_grad():\n",
    "            for data, target in test_loader:\n",
    "                data, target = data.to(device), target.to(device)\n",
    "                output = model(data)\n",
    "                loss = criterion(output, target.view(-1,1))\n",
    "                test_loss += loss.item() * data.size(0)\n",
    "                pred = torch.round(output)\n",
    "                test_acc += torch.sum(pred == target.view(-1,1)).item()\n",
    "                \n",
    "        test_loss = test_loss / len(test_loader.dataset)\n",
    "        test_acc = test_acc / len(test_loader.dataset)\n",
    "        \n",
    "        # Print results for each epoch\n",
    "        # print(f'Epoch {epoch+1}/{n_epochs}: Train Loss: {train_loss:.4f}, Train Acc: {train_acc:.4f}, Test Loss: {test_loss:.4f}, Test Acc: {test_acc:.4f}')\n",
    "    \n",
    "# Print final test accuracy for each dropout rate\n",
    "print(f'Dropout rate: {dropout:.1f}, Final Test Accuracy: {test_acc:.4f}')"
   ]
  }
 ],
 "metadata": {
  "kernelspec": {
   "display_name": "base",
   "language": "python",
   "name": "python3"
  },
  "language_info": {
   "codemirror_mode": {
    "name": "ipython",
    "version": 3
   },
   "file_extension": ".py",
   "mimetype": "text/x-python",
   "name": "python",
   "nbconvert_exporter": "python",
   "pygments_lexer": "ipython3",
   "version": "3.9.13"
  },
  "orig_nbformat": 4,
  "vscode": {
   "interpreter": {
    "hash": "d8f53876d2198310f0aee54cc58adc8d2aff7e02491be081c4f4fe6e26052469"
   }
  }
 },
 "nbformat": 4,
 "nbformat_minor": 2
}
